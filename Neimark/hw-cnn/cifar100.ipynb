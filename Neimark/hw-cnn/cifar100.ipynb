{
  "cells": [
    {
      "cell_type": "markdown",
      "id": "be5ffa26",
      "metadata": {
        "papermill": {
          "duration": 0.003496,
          "end_time": "2023-01-23T18:25:35.579659",
          "exception": false,
          "start_time": "2023-01-23T18:25:35.576163",
          "status": "completed"
        },
        "tags": [],
        "id": "be5ffa26"
      },
      "source": [
        "**Классификация изображений с помощью сверточных нейронных сетей**\n",
        "\n",
        "В данном задании Вам необходимо разработать архитектуру сверточной ИНС, обеспечивающую наибольшую точность при ограничении на количество операций (FLOPs <= 0.707e6).\n",
        "Заготовка кода для выполнения задания приведена выше. Вашей задачей будет заполнить пропущеные места, которые отмечены ключевым словом *None*.\n",
        "Необходимая точность (accuracy) сети на датасете CIFAR100 - 30%\n",
        "Желаемая точность (accuracy) сети на датасете CIFAR100 - 45%"
      ]
    },
    {
      "cell_type": "code",
      "execution_count": 26,
      "id": "088393fa",
      "metadata": {
        "papermill": {
          "duration": null,
          "end_time": null,
          "exception": false,
          "start_time": "2023-01-23T18:25:35.582447",
          "status": "running"
        },
        "tags": [],
        "colab": {
          "base_uri": "https://localhost:8080/"
        },
        "id": "088393fa",
        "outputId": "393e74ef-2911-40dd-9e99-2d6f2cf29ab1"
      },
      "outputs": [
        {
          "output_type": "stream",
          "name": "stdout",
          "text": [
            "Looking in indexes: https://pypi.org/simple, https://us-python.pkg.dev/colab-wheels/public/simple/\n",
            "Requirement already satisfied: keras-flops in /usr/local/lib/python3.8/dist-packages (0.1.2)\n",
            "Requirement already satisfied: tensorflow<3.0,>=2.2 in /usr/local/lib/python3.8/dist-packages (from keras-flops) (2.9.2)\n",
            "Requirement already satisfied: keras-preprocessing>=1.1.1 in /usr/local/lib/python3.8/dist-packages (from tensorflow<3.0,>=2.2->keras-flops) (1.1.2)\n",
            "Requirement already satisfied: packaging in /usr/local/lib/python3.8/dist-packages (from tensorflow<3.0,>=2.2->keras-flops) (21.3)\n",
            "Requirement already satisfied: numpy>=1.20 in /usr/local/lib/python3.8/dist-packages (from tensorflow<3.0,>=2.2->keras-flops) (1.21.6)\n",
            "Requirement already satisfied: tensorboard<2.10,>=2.9 in /usr/local/lib/python3.8/dist-packages (from tensorflow<3.0,>=2.2->keras-flops) (2.9.1)\n",
            "Requirement already satisfied: gast<=0.4.0,>=0.2.1 in /usr/local/lib/python3.8/dist-packages (from tensorflow<3.0,>=2.2->keras-flops) (0.4.0)\n",
            "Requirement already satisfied: protobuf<3.20,>=3.9.2 in /usr/local/lib/python3.8/dist-packages (from tensorflow<3.0,>=2.2->keras-flops) (3.19.6)\n",
            "Requirement already satisfied: wrapt>=1.11.0 in /usr/local/lib/python3.8/dist-packages (from tensorflow<3.0,>=2.2->keras-flops) (1.14.1)\n",
            "Requirement already satisfied: setuptools in /usr/local/lib/python3.8/dist-packages (from tensorflow<3.0,>=2.2->keras-flops) (57.4.0)\n",
            "Requirement already satisfied: termcolor>=1.1.0 in /usr/local/lib/python3.8/dist-packages (from tensorflow<3.0,>=2.2->keras-flops) (2.2.0)\n",
            "Requirement already satisfied: h5py>=2.9.0 in /usr/local/lib/python3.8/dist-packages (from tensorflow<3.0,>=2.2->keras-flops) (3.1.0)\n",
            "Requirement already satisfied: libclang>=13.0.0 in /usr/local/lib/python3.8/dist-packages (from tensorflow<3.0,>=2.2->keras-flops) (15.0.6.1)\n",
            "Requirement already satisfied: keras<2.10.0,>=2.9.0rc0 in /usr/local/lib/python3.8/dist-packages (from tensorflow<3.0,>=2.2->keras-flops) (2.9.0)\n",
            "Requirement already satisfied: google-pasta>=0.1.1 in /usr/local/lib/python3.8/dist-packages (from tensorflow<3.0,>=2.2->keras-flops) (0.2.0)\n",
            "Requirement already satisfied: tensorflow-io-gcs-filesystem>=0.23.1 in /usr/local/lib/python3.8/dist-packages (from tensorflow<3.0,>=2.2->keras-flops) (0.29.0)\n",
            "Requirement already satisfied: flatbuffers<2,>=1.12 in /usr/local/lib/python3.8/dist-packages (from tensorflow<3.0,>=2.2->keras-flops) (1.12)\n",
            "Requirement already satisfied: absl-py>=1.0.0 in /usr/local/lib/python3.8/dist-packages (from tensorflow<3.0,>=2.2->keras-flops) (1.3.0)\n",
            "Requirement already satisfied: typing-extensions>=3.6.6 in /usr/local/lib/python3.8/dist-packages (from tensorflow<3.0,>=2.2->keras-flops) (4.4.0)\n",
            "Requirement already satisfied: tensorflow-estimator<2.10.0,>=2.9.0rc0 in /usr/local/lib/python3.8/dist-packages (from tensorflow<3.0,>=2.2->keras-flops) (2.9.0)\n",
            "Requirement already satisfied: astunparse>=1.6.0 in /usr/local/lib/python3.8/dist-packages (from tensorflow<3.0,>=2.2->keras-flops) (1.6.3)\n",
            "Requirement already satisfied: grpcio<2.0,>=1.24.3 in /usr/local/lib/python3.8/dist-packages (from tensorflow<3.0,>=2.2->keras-flops) (1.51.1)\n",
            "Requirement already satisfied: opt-einsum>=2.3.2 in /usr/local/lib/python3.8/dist-packages (from tensorflow<3.0,>=2.2->keras-flops) (3.3.0)\n",
            "Requirement already satisfied: six>=1.12.0 in /usr/local/lib/python3.8/dist-packages (from tensorflow<3.0,>=2.2->keras-flops) (1.15.0)\n",
            "Requirement already satisfied: wheel<1.0,>=0.23.0 in /usr/local/lib/python3.8/dist-packages (from astunparse>=1.6.0->tensorflow<3.0,>=2.2->keras-flops) (0.38.4)\n",
            "Requirement already satisfied: tensorboard-data-server<0.7.0,>=0.6.0 in /usr/local/lib/python3.8/dist-packages (from tensorboard<2.10,>=2.9->tensorflow<3.0,>=2.2->keras-flops) (0.6.1)\n",
            "Requirement already satisfied: tensorboard-plugin-wit>=1.6.0 in /usr/local/lib/python3.8/dist-packages (from tensorboard<2.10,>=2.9->tensorflow<3.0,>=2.2->keras-flops) (1.8.1)\n",
            "Requirement already satisfied: google-auth-oauthlib<0.5,>=0.4.1 in /usr/local/lib/python3.8/dist-packages (from tensorboard<2.10,>=2.9->tensorflow<3.0,>=2.2->keras-flops) (0.4.6)\n",
            "Requirement already satisfied: markdown>=2.6.8 in /usr/local/lib/python3.8/dist-packages (from tensorboard<2.10,>=2.9->tensorflow<3.0,>=2.2->keras-flops) (3.4.1)\n",
            "Requirement already satisfied: werkzeug>=1.0.1 in /usr/local/lib/python3.8/dist-packages (from tensorboard<2.10,>=2.9->tensorflow<3.0,>=2.2->keras-flops) (1.0.1)\n",
            "Requirement already satisfied: google-auth<3,>=1.6.3 in /usr/local/lib/python3.8/dist-packages (from tensorboard<2.10,>=2.9->tensorflow<3.0,>=2.2->keras-flops) (2.16.0)\n",
            "Requirement already satisfied: requests<3,>=2.21.0 in /usr/local/lib/python3.8/dist-packages (from tensorboard<2.10,>=2.9->tensorflow<3.0,>=2.2->keras-flops) (2.25.1)\n",
            "Requirement already satisfied: pyparsing!=3.0.5,>=2.0.2 in /usr/local/lib/python3.8/dist-packages (from packaging->tensorflow<3.0,>=2.2->keras-flops) (3.0.9)\n",
            "Requirement already satisfied: rsa<5,>=3.1.4 in /usr/local/lib/python3.8/dist-packages (from google-auth<3,>=1.6.3->tensorboard<2.10,>=2.9->tensorflow<3.0,>=2.2->keras-flops) (4.9)\n",
            "Requirement already satisfied: cachetools<6.0,>=2.0.0 in /usr/local/lib/python3.8/dist-packages (from google-auth<3,>=1.6.3->tensorboard<2.10,>=2.9->tensorflow<3.0,>=2.2->keras-flops) (5.2.1)\n",
            "Requirement already satisfied: pyasn1-modules>=0.2.1 in /usr/local/lib/python3.8/dist-packages (from google-auth<3,>=1.6.3->tensorboard<2.10,>=2.9->tensorflow<3.0,>=2.2->keras-flops) (0.2.8)\n",
            "Requirement already satisfied: requests-oauthlib>=0.7.0 in /usr/local/lib/python3.8/dist-packages (from google-auth-oauthlib<0.5,>=0.4.1->tensorboard<2.10,>=2.9->tensorflow<3.0,>=2.2->keras-flops) (1.3.1)\n",
            "Requirement already satisfied: importlib-metadata>=4.4 in /usr/local/lib/python3.8/dist-packages (from markdown>=2.6.8->tensorboard<2.10,>=2.9->tensorflow<3.0,>=2.2->keras-flops) (6.0.0)\n",
            "Requirement already satisfied: chardet<5,>=3.0.2 in /usr/local/lib/python3.8/dist-packages (from requests<3,>=2.21.0->tensorboard<2.10,>=2.9->tensorflow<3.0,>=2.2->keras-flops) (4.0.0)\n",
            "Requirement already satisfied: urllib3<1.27,>=1.21.1 in /usr/local/lib/python3.8/dist-packages (from requests<3,>=2.21.0->tensorboard<2.10,>=2.9->tensorflow<3.0,>=2.2->keras-flops) (1.24.3)\n",
            "Requirement already satisfied: idna<3,>=2.5 in /usr/local/lib/python3.8/dist-packages (from requests<3,>=2.21.0->tensorboard<2.10,>=2.9->tensorflow<3.0,>=2.2->keras-flops) (2.10)\n",
            "Requirement already satisfied: certifi>=2017.4.17 in /usr/local/lib/python3.8/dist-packages (from requests<3,>=2.21.0->tensorboard<2.10,>=2.9->tensorflow<3.0,>=2.2->keras-flops) (2022.12.7)\n",
            "Requirement already satisfied: zipp>=0.5 in /usr/local/lib/python3.8/dist-packages (from importlib-metadata>=4.4->markdown>=2.6.8->tensorboard<2.10,>=2.9->tensorflow<3.0,>=2.2->keras-flops) (3.11.0)\n",
            "Requirement already satisfied: pyasn1<0.5.0,>=0.4.6 in /usr/local/lib/python3.8/dist-packages (from pyasn1-modules>=0.2.1->google-auth<3,>=1.6.3->tensorboard<2.10,>=2.9->tensorflow<3.0,>=2.2->keras-flops) (0.4.8)\n",
            "Requirement already satisfied: oauthlib>=3.0.0 in /usr/local/lib/python3.8/dist-packages (from requests-oauthlib>=0.7.0->google-auth-oauthlib<0.5,>=0.4.1->tensorboard<2.10,>=2.9->tensorflow<3.0,>=2.2->keras-flops) (3.2.2)\n"
          ]
        }
      ],
      "source": [
        "!pip install keras-flops"
      ]
    },
    {
      "cell_type": "code",
      "execution_count": 27,
      "id": "abf032ad",
      "metadata": {
        "_cell_guid": "b1076dfc-b9ad-4769-8c92-a6c4dae69d19",
        "_uuid": "8f2839f25d086af736a60e9eeb907d3b93b6e0e5",
        "papermill": {
          "duration": null,
          "end_time": null,
          "exception": null,
          "start_time": null,
          "status": "pending"
        },
        "tags": [],
        "id": "abf032ad"
      },
      "outputs": [],
      "source": [
        "# Импорт необходимых библиотек\n",
        "import numpy as np\n",
        "import pandas as pd\n",
        "import tensorflow as tf\n",
        "import matplotlib.pyplot as plt\n",
        "from keras_flops import get_flops"
      ]
    },
    {
      "cell_type": "code",
      "execution_count": 28,
      "id": "3ad364d8",
      "metadata": {
        "papermill": {
          "duration": null,
          "end_time": null,
          "exception": null,
          "start_time": null,
          "status": "pending"
        },
        "tags": [],
        "id": "3ad364d8"
      },
      "outputs": [],
      "source": [
        "# Глобальные константы\n",
        "CLASSES       = 100\n",
        "BATCH_SIZE    = 128\n",
        "LEARNING_RATE = 1e-2"
      ]
    },
    {
      "cell_type": "code",
      "execution_count": 29,
      "id": "f6bd608b",
      "metadata": {
        "papermill": {
          "duration": null,
          "end_time": null,
          "exception": null,
          "start_time": null,
          "status": "pending"
        },
        "tags": [],
        "id": "f6bd608b"
      },
      "outputs": [],
      "source": [
        "# Выполните загрузку модели\n",
        "(X_train, y_train), (X_val, y_val) = tf.keras.datasets.cifar100.load_data()"
      ]
    },
    {
      "cell_type": "code",
      "execution_count": 30,
      "id": "33e98cd8",
      "metadata": {
        "papermill": {
          "duration": null,
          "end_time": null,
          "exception": null,
          "start_time": null,
          "status": "pending"
        },
        "tags": [],
        "id": "33e98cd8"
      },
      "outputs": [],
      "source": [
        "# Преобразуйте метки классов в one_hot формат\n",
        "y_train = (y_train == np.arange(CLASSES)).astype(np.float32)\n",
        "y_val = (y_val == np.arange(CLASSES)).astype(np.float32)"
      ]
    },
    {
      "cell_type": "code",
      "execution_count": 31,
      "id": "19b2c913",
      "metadata": {
        "papermill": {
          "duration": null,
          "end_time": null,
          "exception": null,
          "start_time": null,
          "status": "pending"
        },
        "tags": [],
        "id": "19b2c913"
      },
      "outputs": [],
      "source": [
        "# убедитесь, что данная ячейка выполняется без ошибок\n",
        "assert X_train.shape == (50000, 32, 32, 3)\n",
        "assert X_val.shape == (10000, 32, 32, 3)\n",
        "assert y_train.shape == (50000, 100)\n",
        "assert y_val.shape == (10000, 100)"
      ]
    },
    {
      "cell_type": "code",
      "execution_count": 32,
      "id": "2ab6fda7",
      "metadata": {
        "papermill": {
          "duration": null,
          "end_time": null,
          "exception": null,
          "start_time": null,
          "status": "pending"
        },
        "tags": [],
        "id": "2ab6fda7"
      },
      "outputs": [],
      "source": [
        "# Задайте архитектуру модели\n",
        "model = tf.keras.models.Sequential([\n",
        "    tf.keras.Input(shape=[32, 32, 3]),\n",
        "\n",
        "    tf.keras.layers.Conv2D(30, kernel_size=(2, 2), strides=(2, 2), padding='same'),\n",
        "    tf.keras.layers.BatchNormalization(),\n",
        "    tf.keras.layers.Activation('relu'),\n",
        "    tf.keras.layers.MaxPooling2D(pool_size=(2, 2)),\n",
        "\n",
        "    tf.keras.layers.Conv2D(24, kernel_size=(2, 2), padding='same'),\n",
        "    tf.keras.layers.BatchNormalization(),\n",
        "    tf.keras.layers.Activation('relu'),\n",
        "    tf.keras.layers.MaxPooling2D(pool_size=(2, 2)),\n",
        "\n",
        "    tf.keras.layers.Flatten(),\n",
        "    tf.keras.layers.BatchNormalization(),  \n",
        "    tf.keras.layers.Dropout(0.3), \n",
        "    tf.keras.layers.Activation('relu'),\n",
        "    tf.keras.layers.Dense(CLASSES),\n",
        "    tf.keras.layers.Activation('softmax'),\n",
        "])"
      ]
    },
    {
      "cell_type": "code",
      "execution_count": 33,
      "id": "ef225707",
      "metadata": {
        "papermill": {
          "duration": null,
          "end_time": null,
          "exception": null,
          "start_time": null,
          "status": "pending"
        },
        "tags": [],
        "colab": {
          "base_uri": "https://localhost:8080/"
        },
        "id": "ef225707",
        "outputId": "867f0181-f5fa-4020-a4b2-59a21bbfbf52"
      },
      "outputs": [
        {
          "output_type": "stream",
          "name": "stdout",
          "text": [
            "FLOPs: 0.6706e6\n"
          ]
        }
      ],
      "source": [
        "# вычисление количества операций\n",
        "flops = get_flops(model, batch_size=1)\n",
        "print(f\"FLOPs: {(flops / 1e6):.4f}e6\")"
      ]
    },
    {
      "cell_type": "code",
      "execution_count": 34,
      "id": "de1d9567",
      "metadata": {
        "papermill": {
          "duration": null,
          "end_time": null,
          "exception": null,
          "start_time": null,
          "status": "pending"
        },
        "tags": [],
        "colab": {
          "base_uri": "https://localhost:8080/"
        },
        "id": "de1d9567",
        "outputId": "fe2db487-8a2b-4443-8c48-56682161ff0c"
      },
      "outputs": [
        {
          "output_type": "stream",
          "name": "stdout",
          "text": [
            "Model: \"sequential_2\"\n",
            "_________________________________________________________________\n",
            " Layer (type)                Output Shape              Param #   \n",
            "=================================================================\n",
            " conv2d_4 (Conv2D)           (None, 16, 16, 30)        390       \n",
            "                                                                 \n",
            " batch_normalization_6 (Batc  (None, 16, 16, 30)       120       \n",
            " hNormalization)                                                 \n",
            "                                                                 \n",
            " activation_8 (Activation)   (None, 16, 16, 30)        0         \n",
            "                                                                 \n",
            " max_pooling2d_4 (MaxPooling  (None, 8, 8, 30)         0         \n",
            " 2D)                                                             \n",
            "                                                                 \n",
            " conv2d_5 (Conv2D)           (None, 8, 8, 24)          2904      \n",
            "                                                                 \n",
            " batch_normalization_7 (Batc  (None, 8, 8, 24)         96        \n",
            " hNormalization)                                                 \n",
            "                                                                 \n",
            " activation_9 (Activation)   (None, 8, 8, 24)          0         \n",
            "                                                                 \n",
            " max_pooling2d_5 (MaxPooling  (None, 4, 4, 24)         0         \n",
            " 2D)                                                             \n",
            "                                                                 \n",
            " flatten_2 (Flatten)         (None, 384)               0         \n",
            "                                                                 \n",
            " batch_normalization_8 (Batc  (None, 384)              1536      \n",
            " hNormalization)                                                 \n",
            "                                                                 \n",
            " dropout_2 (Dropout)         (None, 384)               0         \n",
            "                                                                 \n",
            " activation_10 (Activation)  (None, 384)               0         \n",
            "                                                                 \n",
            " dense_2 (Dense)             (None, 100)               38500     \n",
            "                                                                 \n",
            " activation_11 (Activation)  (None, 100)               0         \n",
            "                                                                 \n",
            "=================================================================\n",
            "Total params: 43,546\n",
            "Trainable params: 42,670\n",
            "Non-trainable params: 876\n",
            "_________________________________________________________________\n"
          ]
        }
      ],
      "source": [
        "# вывод краткой информации о модели\n",
        "model.summary()"
      ]
    },
    {
      "cell_type": "code",
      "execution_count": 35,
      "id": "e927e234",
      "metadata": {
        "papermill": {
          "duration": null,
          "end_time": null,
          "exception": null,
          "start_time": null,
          "status": "pending"
        },
        "tags": [],
        "id": "e927e234"
      },
      "outputs": [],
      "source": [
        "# параметры данной ячейки могут быть изменены для получения более высокой точности\n",
        "model.compile(\n",
        "    optimizer=tf.keras.optimizers.Adam(\n",
        "        learning_rate=tf.keras.optimizers.schedules.ExponentialDecay(\n",
        "            initial_learning_rate=LEARNING_RATE,\n",
        "            decay_steps=1500,\n",
        "            decay_rate=0.7\n",
        "        )\n",
        "    ),\n",
        "    loss=tf.keras.losses.CategoricalCrossentropy(),\n",
        "    metrics=['accuracy']\n",
        ")"
      ]
    },
    {
      "cell_type": "code",
      "execution_count": 36,
      "id": "49dfe428",
      "metadata": {
        "papermill": {
          "duration": null,
          "end_time": null,
          "exception": null,
          "start_time": null,
          "status": "pending"
        },
        "tags": [],
        "colab": {
          "base_uri": "https://localhost:8080/"
        },
        "id": "49dfe428",
        "outputId": "a1d521cf-3ea5-470d-dd6e-9b376bfb7961"
      },
      "outputs": [
        {
          "output_type": "stream",
          "name": "stdout",
          "text": [
            "Epoch 1/100\n",
            "391/391 [==============================] - 3s 6ms/step - loss: 3.6064 - accuracy: 0.1670 - val_loss: 3.4652 - val_accuracy: 0.2042\n",
            "Epoch 2/100\n",
            "391/391 [==============================] - 3s 8ms/step - loss: 3.0758 - accuracy: 0.2524 - val_loss: 3.1824 - val_accuracy: 0.2352\n",
            "Epoch 3/100\n",
            "391/391 [==============================] - 3s 8ms/step - loss: 2.9087 - accuracy: 0.2862 - val_loss: 3.3710 - val_accuracy: 0.2207\n",
            "Epoch 4/100\n",
            "391/391 [==============================] - 4s 10ms/step - loss: 2.8053 - accuracy: 0.3045 - val_loss: 2.9597 - val_accuracy: 0.2826\n",
            "Epoch 5/100\n",
            "391/391 [==============================] - 3s 8ms/step - loss: 2.7349 - accuracy: 0.3190 - val_loss: 2.7580 - val_accuracy: 0.3221\n",
            "Epoch 6/100\n",
            "391/391 [==============================] - 2s 5ms/step - loss: 2.6848 - accuracy: 0.3304 - val_loss: 2.7502 - val_accuracy: 0.3233\n",
            "Epoch 7/100\n",
            "391/391 [==============================] - 2s 5ms/step - loss: 2.6361 - accuracy: 0.3394 - val_loss: 2.8275 - val_accuracy: 0.3083\n",
            "Epoch 8/100\n",
            "391/391 [==============================] - 2s 5ms/step - loss: 2.6000 - accuracy: 0.3471 - val_loss: 2.7019 - val_accuracy: 0.3303\n",
            "Epoch 9/100\n",
            "391/391 [==============================] - 2s 6ms/step - loss: 2.5747 - accuracy: 0.3507 - val_loss: 2.7227 - val_accuracy: 0.3280\n",
            "Epoch 10/100\n",
            "391/391 [==============================] - 2s 6ms/step - loss: 2.5430 - accuracy: 0.3605 - val_loss: 2.6125 - val_accuracy: 0.3507\n",
            "Epoch 11/100\n",
            "391/391 [==============================] - 2s 5ms/step - loss: 2.5229 - accuracy: 0.3636 - val_loss: 2.6408 - val_accuracy: 0.3461\n",
            "Epoch 12/100\n",
            "391/391 [==============================] - 2s 5ms/step - loss: 2.5057 - accuracy: 0.3657 - val_loss: 2.5463 - val_accuracy: 0.3679\n",
            "Epoch 13/100\n",
            "391/391 [==============================] - 2s 5ms/step - loss: 2.4857 - accuracy: 0.3681 - val_loss: 2.6211 - val_accuracy: 0.3581\n",
            "Epoch 14/100\n",
            "391/391 [==============================] - 2s 5ms/step - loss: 2.4719 - accuracy: 0.3713 - val_loss: 2.5965 - val_accuracy: 0.3507\n",
            "Epoch 15/100\n",
            "391/391 [==============================] - 2s 5ms/step - loss: 2.4622 - accuracy: 0.3733 - val_loss: 2.6015 - val_accuracy: 0.3517\n",
            "Epoch 16/100\n",
            "391/391 [==============================] - 2s 5ms/step - loss: 2.4406 - accuracy: 0.3797 - val_loss: 2.5246 - val_accuracy: 0.3675\n",
            "Epoch 17/100\n",
            "391/391 [==============================] - 2s 5ms/step - loss: 2.4335 - accuracy: 0.3810 - val_loss: 2.5281 - val_accuracy: 0.3763\n",
            "Epoch 18/100\n",
            "391/391 [==============================] - 2s 5ms/step - loss: 2.4152 - accuracy: 0.3848 - val_loss: 2.4987 - val_accuracy: 0.3763\n",
            "Epoch 19/100\n",
            "391/391 [==============================] - 2s 5ms/step - loss: 2.4045 - accuracy: 0.3865 - val_loss: 2.5239 - val_accuracy: 0.3683\n",
            "Epoch 20/100\n",
            "391/391 [==============================] - 2s 5ms/step - loss: 2.3918 - accuracy: 0.3890 - val_loss: 2.4685 - val_accuracy: 0.3808\n",
            "Epoch 21/100\n",
            "391/391 [==============================] - 2s 5ms/step - loss: 2.3846 - accuracy: 0.3913 - val_loss: 2.4746 - val_accuracy: 0.3844\n",
            "Epoch 22/100\n",
            "391/391 [==============================] - 2s 5ms/step - loss: 2.3735 - accuracy: 0.3935 - val_loss: 2.4497 - val_accuracy: 0.3884\n",
            "Epoch 23/100\n",
            "391/391 [==============================] - 3s 9ms/step - loss: 2.3770 - accuracy: 0.3955 - val_loss: 2.4656 - val_accuracy: 0.3822\n",
            "Epoch 24/100\n",
            "391/391 [==============================] - 2s 6ms/step - loss: 2.3700 - accuracy: 0.3927 - val_loss: 2.4618 - val_accuracy: 0.3830\n",
            "Epoch 25/100\n",
            "391/391 [==============================] - 2s 5ms/step - loss: 2.3590 - accuracy: 0.3988 - val_loss: 2.4273 - val_accuracy: 0.3911\n",
            "Epoch 26/100\n",
            "391/391 [==============================] - 2s 5ms/step - loss: 2.3531 - accuracy: 0.3962 - val_loss: 2.4285 - val_accuracy: 0.3911\n",
            "Epoch 27/100\n",
            "391/391 [==============================] - 2s 5ms/step - loss: 2.3510 - accuracy: 0.3978 - val_loss: 2.4247 - val_accuracy: 0.3912\n",
            "Epoch 28/100\n",
            "391/391 [==============================] - 2s 5ms/step - loss: 2.3411 - accuracy: 0.4034 - val_loss: 2.4597 - val_accuracy: 0.3824\n",
            "Epoch 29/100\n",
            "391/391 [==============================] - 2s 5ms/step - loss: 2.3375 - accuracy: 0.4021 - val_loss: 2.4126 - val_accuracy: 0.3918\n",
            "Epoch 30/100\n",
            "391/391 [==============================] - 2s 5ms/step - loss: 2.3369 - accuracy: 0.3993 - val_loss: 2.4262 - val_accuracy: 0.3885\n",
            "Epoch 31/100\n",
            "391/391 [==============================] - 2s 5ms/step - loss: 2.3337 - accuracy: 0.4045 - val_loss: 2.4093 - val_accuracy: 0.3929\n",
            "Epoch 32/100\n",
            "391/391 [==============================] - 2s 5ms/step - loss: 2.3391 - accuracy: 0.4019 - val_loss: 2.4062 - val_accuracy: 0.3943\n",
            "Epoch 33/100\n",
            "391/391 [==============================] - 2s 5ms/step - loss: 2.3277 - accuracy: 0.4021 - val_loss: 2.4214 - val_accuracy: 0.3914\n",
            "Epoch 34/100\n",
            "391/391 [==============================] - 2s 5ms/step - loss: 2.3268 - accuracy: 0.4033 - val_loss: 2.4073 - val_accuracy: 0.3951\n",
            "Epoch 35/100\n",
            "391/391 [==============================] - 2s 5ms/step - loss: 2.3237 - accuracy: 0.4047 - val_loss: 2.4031 - val_accuracy: 0.3966\n",
            "Epoch 36/100\n",
            "391/391 [==============================] - 2s 6ms/step - loss: 2.3203 - accuracy: 0.4043 - val_loss: 2.4061 - val_accuracy: 0.3950\n",
            "Epoch 37/100\n",
            "391/391 [==============================] - 2s 6ms/step - loss: 2.3196 - accuracy: 0.4051 - val_loss: 2.4022 - val_accuracy: 0.3967\n",
            "Epoch 38/100\n",
            "391/391 [==============================] - 2s 5ms/step - loss: 2.3125 - accuracy: 0.4088 - val_loss: 2.4017 - val_accuracy: 0.3986\n",
            "Epoch 39/100\n",
            "391/391 [==============================] - 2s 5ms/step - loss: 2.3181 - accuracy: 0.4073 - val_loss: 2.3948 - val_accuracy: 0.3961\n",
            "Epoch 40/100\n",
            "391/391 [==============================] - 2s 5ms/step - loss: 2.3120 - accuracy: 0.4057 - val_loss: 2.3946 - val_accuracy: 0.3978\n",
            "Epoch 41/100\n",
            "391/391 [==============================] - 2s 5ms/step - loss: 2.3160 - accuracy: 0.4068 - val_loss: 2.3933 - val_accuracy: 0.3989\n",
            "Epoch 42/100\n",
            "391/391 [==============================] - 2s 5ms/step - loss: 2.3089 - accuracy: 0.4095 - val_loss: 2.3921 - val_accuracy: 0.3982\n",
            "Epoch 43/100\n",
            "391/391 [==============================] - 2s 5ms/step - loss: 2.3093 - accuracy: 0.4078 - val_loss: 2.3958 - val_accuracy: 0.3985\n",
            "Epoch 44/100\n",
            "391/391 [==============================] - 2s 5ms/step - loss: 2.3069 - accuracy: 0.4069 - val_loss: 2.3943 - val_accuracy: 0.3982\n",
            "Epoch 45/100\n",
            "391/391 [==============================] - 2s 5ms/step - loss: 2.3101 - accuracy: 0.4081 - val_loss: 2.3883 - val_accuracy: 0.3991\n",
            "Epoch 46/100\n",
            "391/391 [==============================] - 2s 5ms/step - loss: 2.3092 - accuracy: 0.4084 - val_loss: 2.3892 - val_accuracy: 0.3983\n",
            "Epoch 47/100\n",
            "391/391 [==============================] - 2s 6ms/step - loss: 2.3024 - accuracy: 0.4085 - val_loss: 2.3881 - val_accuracy: 0.3991\n",
            "Epoch 48/100\n",
            "391/391 [==============================] - 2s 5ms/step - loss: 2.3008 - accuracy: 0.4092 - val_loss: 2.3893 - val_accuracy: 0.3994\n",
            "Epoch 49/100\n",
            "391/391 [==============================] - 2s 5ms/step - loss: 2.3090 - accuracy: 0.4083 - val_loss: 2.3898 - val_accuracy: 0.3988\n",
            "Epoch 50/100\n",
            "391/391 [==============================] - 2s 5ms/step - loss: 2.3039 - accuracy: 0.4072 - val_loss: 2.3888 - val_accuracy: 0.3994\n",
            "Epoch 51/100\n",
            "391/391 [==============================] - 2s 5ms/step - loss: 2.2984 - accuracy: 0.4103 - val_loss: 2.3888 - val_accuracy: 0.3994\n",
            "Epoch 52/100\n",
            "391/391 [==============================] - 2s 5ms/step - loss: 2.3018 - accuracy: 0.4084 - val_loss: 2.3923 - val_accuracy: 0.3988\n",
            "Epoch 53/100\n",
            "391/391 [==============================] - 2s 5ms/step - loss: 2.3031 - accuracy: 0.4089 - val_loss: 2.3858 - val_accuracy: 0.3983\n",
            "Epoch 54/100\n",
            "391/391 [==============================] - 2s 5ms/step - loss: 2.3048 - accuracy: 0.4085 - val_loss: 2.3854 - val_accuracy: 0.3986\n",
            "Epoch 55/100\n",
            "391/391 [==============================] - 2s 5ms/step - loss: 2.2988 - accuracy: 0.4077 - val_loss: 2.3875 - val_accuracy: 0.3986\n",
            "Epoch 56/100\n",
            "391/391 [==============================] - 2s 5ms/step - loss: 2.2991 - accuracy: 0.4106 - val_loss: 2.3849 - val_accuracy: 0.3998\n",
            "Epoch 57/100\n",
            "391/391 [==============================] - 2s 5ms/step - loss: 2.2991 - accuracy: 0.4113 - val_loss: 2.3865 - val_accuracy: 0.3994\n",
            "Epoch 58/100\n",
            "391/391 [==============================] - 2s 5ms/step - loss: 2.2984 - accuracy: 0.4069 - val_loss: 2.3854 - val_accuracy: 0.3994\n",
            "Epoch 59/100\n",
            "391/391 [==============================] - 2s 5ms/step - loss: 2.3002 - accuracy: 0.4088 - val_loss: 2.3851 - val_accuracy: 0.3991\n",
            "Epoch 60/100\n",
            "391/391 [==============================] - 2s 5ms/step - loss: 2.2993 - accuracy: 0.4098 - val_loss: 2.3840 - val_accuracy: 0.3979\n",
            "Epoch 61/100\n",
            "391/391 [==============================] - 2s 5ms/step - loss: 2.2985 - accuracy: 0.4104 - val_loss: 2.3844 - val_accuracy: 0.3998\n",
            "Epoch 62/100\n",
            "391/391 [==============================] - 2s 5ms/step - loss: 2.2968 - accuracy: 0.4127 - val_loss: 2.3848 - val_accuracy: 0.3999\n",
            "Epoch 63/100\n",
            "391/391 [==============================] - 2s 5ms/step - loss: 2.2982 - accuracy: 0.4082 - val_loss: 2.3845 - val_accuracy: 0.3987\n",
            "Epoch 64/100\n",
            "391/391 [==============================] - 2s 5ms/step - loss: 2.2992 - accuracy: 0.4106 - val_loss: 2.3851 - val_accuracy: 0.4014\n",
            "Epoch 65/100\n",
            "391/391 [==============================] - 2s 5ms/step - loss: 2.2978 - accuracy: 0.4102 - val_loss: 2.3840 - val_accuracy: 0.3995\n",
            "Epoch 66/100\n",
            "391/391 [==============================] - 2s 5ms/step - loss: 2.3014 - accuracy: 0.4084 - val_loss: 2.3843 - val_accuracy: 0.4001\n",
            "Epoch 67/100\n",
            "391/391 [==============================] - 2s 5ms/step - loss: 2.2940 - accuracy: 0.4104 - val_loss: 2.3846 - val_accuracy: 0.3995\n",
            "Epoch 68/100\n",
            "391/391 [==============================] - 2s 5ms/step - loss: 2.2976 - accuracy: 0.4117 - val_loss: 2.3839 - val_accuracy: 0.3994\n",
            "Epoch 69/100\n",
            "391/391 [==============================] - 2s 5ms/step - loss: 2.2987 - accuracy: 0.4092 - val_loss: 2.3846 - val_accuracy: 0.3998\n",
            "Epoch 70/100\n",
            "391/391 [==============================] - 2s 5ms/step - loss: 2.3007 - accuracy: 0.4115 - val_loss: 2.3842 - val_accuracy: 0.3982\n",
            "Epoch 71/100\n",
            "391/391 [==============================] - 2s 5ms/step - loss: 2.2976 - accuracy: 0.4109 - val_loss: 2.3838 - val_accuracy: 0.3989\n",
            "Epoch 72/100\n",
            "391/391 [==============================] - 2s 5ms/step - loss: 2.2913 - accuracy: 0.4094 - val_loss: 2.3842 - val_accuracy: 0.3991\n",
            "Epoch 73/100\n",
            "391/391 [==============================] - 2s 5ms/step - loss: 2.3001 - accuracy: 0.4078 - val_loss: 2.3840 - val_accuracy: 0.3987\n",
            "Epoch 74/100\n",
            "391/391 [==============================] - 2s 5ms/step - loss: 2.2956 - accuracy: 0.4096 - val_loss: 2.3838 - val_accuracy: 0.3992\n",
            "Epoch 75/100\n",
            "391/391 [==============================] - 2s 5ms/step - loss: 2.2929 - accuracy: 0.4089 - val_loss: 2.3840 - val_accuracy: 0.3999\n",
            "Epoch 76/100\n",
            "391/391 [==============================] - 2s 5ms/step - loss: 2.2979 - accuracy: 0.4105 - val_loss: 2.3841 - val_accuracy: 0.3989\n",
            "Epoch 77/100\n",
            "391/391 [==============================] - 2s 5ms/step - loss: 2.2939 - accuracy: 0.4124 - val_loss: 2.3840 - val_accuracy: 0.3996\n",
            "Epoch 78/100\n",
            "391/391 [==============================] - 2s 5ms/step - loss: 2.2921 - accuracy: 0.4134 - val_loss: 2.3838 - val_accuracy: 0.3994\n",
            "Epoch 79/100\n",
            "391/391 [==============================] - 2s 6ms/step - loss: 2.2992 - accuracy: 0.4099 - val_loss: 2.3841 - val_accuracy: 0.3999\n",
            "Epoch 80/100\n",
            "391/391 [==============================] - 2s 6ms/step - loss: 2.2954 - accuracy: 0.4094 - val_loss: 2.3842 - val_accuracy: 0.4002\n",
            "Epoch 81/100\n",
            "391/391 [==============================] - 2s 5ms/step - loss: 2.2984 - accuracy: 0.4111 - val_loss: 2.3841 - val_accuracy: 0.3996\n",
            "Epoch 82/100\n",
            "391/391 [==============================] - 2s 5ms/step - loss: 2.2962 - accuracy: 0.4112 - val_loss: 2.3843 - val_accuracy: 0.3980\n",
            "Epoch 83/100\n",
            "391/391 [==============================] - 2s 5ms/step - loss: 2.2938 - accuracy: 0.4113 - val_loss: 2.3838 - val_accuracy: 0.3994\n",
            "Epoch 84/100\n",
            "391/391 [==============================] - 2s 5ms/step - loss: 2.2975 - accuracy: 0.4104 - val_loss: 2.3838 - val_accuracy: 0.3995\n",
            "Epoch 85/100\n",
            "391/391 [==============================] - 2s 5ms/step - loss: 2.2975 - accuracy: 0.4105 - val_loss: 2.3841 - val_accuracy: 0.3994\n",
            "Epoch 86/100\n",
            "391/391 [==============================] - 2s 5ms/step - loss: 2.2925 - accuracy: 0.4105 - val_loss: 2.3840 - val_accuracy: 0.3987\n",
            "Epoch 87/100\n",
            "391/391 [==============================] - 2s 5ms/step - loss: 2.2990 - accuracy: 0.4087 - val_loss: 2.3837 - val_accuracy: 0.3996\n",
            "Epoch 88/100\n",
            "391/391 [==============================] - 2s 5ms/step - loss: 2.2936 - accuracy: 0.4128 - val_loss: 2.3837 - val_accuracy: 0.4002\n",
            "Epoch 89/100\n",
            "391/391 [==============================] - 2s 5ms/step - loss: 2.2962 - accuracy: 0.4111 - val_loss: 2.3839 - val_accuracy: 0.3990\n",
            "Epoch 90/100\n",
            "391/391 [==============================] - 2s 5ms/step - loss: 2.3010 - accuracy: 0.4103 - val_loss: 2.3841 - val_accuracy: 0.3996\n",
            "Epoch 91/100\n",
            "391/391 [==============================] - 2s 5ms/step - loss: 2.2947 - accuracy: 0.4086 - val_loss: 2.3837 - val_accuracy: 0.3991\n",
            "Epoch 92/100\n",
            "391/391 [==============================] - 2s 5ms/step - loss: 2.2966 - accuracy: 0.4107 - val_loss: 2.3840 - val_accuracy: 0.3996\n",
            "Epoch 93/100\n",
            "391/391 [==============================] - 2s 5ms/step - loss: 2.2962 - accuracy: 0.4108 - val_loss: 2.3836 - val_accuracy: 0.3994\n",
            "Epoch 94/100\n",
            "391/391 [==============================] - 2s 5ms/step - loss: 2.2988 - accuracy: 0.4101 - val_loss: 2.3840 - val_accuracy: 0.3995\n",
            "Epoch 95/100\n",
            "391/391 [==============================] - 2s 5ms/step - loss: 2.3029 - accuracy: 0.4101 - val_loss: 2.3839 - val_accuracy: 0.3986\n",
            "Epoch 96/100\n",
            "391/391 [==============================] - 2s 5ms/step - loss: 2.3035 - accuracy: 0.4085 - val_loss: 2.3839 - val_accuracy: 0.3999\n",
            "Epoch 97/100\n",
            "391/391 [==============================] - 2s 5ms/step - loss: 2.2974 - accuracy: 0.4097 - val_loss: 2.3844 - val_accuracy: 0.3986\n",
            "Epoch 98/100\n",
            "391/391 [==============================] - 2s 5ms/step - loss: 2.2958 - accuracy: 0.4123 - val_loss: 2.3841 - val_accuracy: 0.3995\n",
            "Epoch 99/100\n",
            "391/391 [==============================] - 2s 5ms/step - loss: 2.3021 - accuracy: 0.4087 - val_loss: 2.3839 - val_accuracy: 0.3994\n",
            "Epoch 100/100\n",
            "391/391 [==============================] - 2s 5ms/step - loss: 2.2949 - accuracy: 0.4112 - val_loss: 2.3836 - val_accuracy: 0.3996\n"
          ]
        }
      ],
      "source": [
        "# обучения модели\n",
        "result = model.fit(\n",
        "    x=X_train,\n",
        "    y=y_train,\n",
        "    validation_data=(X_val, y_val),\n",
        "    batch_size=BATCH_SIZE,\n",
        "    callbacks=[\n",
        "        tf.keras.callbacks.ModelCheckpoint(filepath=\"{epoch:02d}-{val_accuracy:.2f}.hdf5\", save_best_only=True)\n",
        "    ],\n",
        "    use_multiprocessing=True,\n",
        "    workers=8,\n",
        "    epochs=100\n",
        ")"
      ]
    },
    {
      "cell_type": "code",
      "execution_count": 37,
      "id": "01094085",
      "metadata": {
        "papermill": {
          "duration": null,
          "end_time": null,
          "exception": null,
          "start_time": null,
          "status": "pending"
        },
        "tags": [],
        "id": "01094085",
        "colab": {
          "base_uri": "https://localhost:8080/"
        },
        "outputId": "f27140d0-4f3c-4cdd-9cfa-fff656c47905"
      },
      "outputs": [
        {
          "output_type": "stream",
          "name": "stdout",
          "text": [
            "Model accuracy: 0.3996\n"
          ]
        }
      ],
      "source": [
        "scores = model.evaluate(X_val, y_val, verbose=0) \n",
        "print(f\"Model accuracy: {scores[1]:.4f}\")"
      ]
    },
    {
      "cell_type": "markdown",
      "source": [
        "Визуализируем результаты обучения"
      ],
      "metadata": {
        "id": "a0rzPkbjTQK9"
      },
      "id": "a0rzPkbjTQK9"
    },
    {
      "cell_type": "code",
      "source": [
        "plt.figure(figsize=(10, 7))\n",
        "plt.plot(result.history['accuracy'])\n",
        "plt.plot(result.history['val_accuracy'])\n",
        "plt.title('Model Accuracy')\n",
        "plt.ylabel('accuracy')\n",
        "plt.xlabel('epoch')\n",
        "plt.legend(['train', 'val'], loc='upper left')\n",
        "plt.show()"
      ],
      "metadata": {
        "colab": {
          "base_uri": "https://localhost:8080/",
          "height": 458
        },
        "id": "Eh9DqvYjTJXV",
        "outputId": "d50949c0-7215-445d-e86a-94cfc31cd243"
      },
      "id": "Eh9DqvYjTJXV",
      "execution_count": 38,
      "outputs": [
        {
          "output_type": "display_data",
          "data": {
            "text/plain": [
              "<Figure size 720x504 with 1 Axes>"
            ],
            "image/png": "[encoded data removed]"
          },
          "metadata": {
            "needs_background": "light"
          }
        }
      ]
    },
    {
      "cell_type": "code",
      "source": [
        "plt.figure(figsize=(10, 7))\n",
        "plt.plot(result.history['loss'])\n",
        "plt.plot(result.history['val_loss'])\n",
        "plt.title('Model Loss')\n",
        "plt.ylabel('loss')\n",
        "plt.xlabel('epoch')\n",
        "plt.legend(['train', 'val'], loc='upper left')\n",
        "plt.show()"
      ],
      "metadata": {
        "colab": {
          "base_uri": "https://localhost:8080/",
          "height": 458
        },
        "id": "gTAMPiPCTpsg",
        "outputId": "48afaefc-2dd0-4be2-8b2a-d422fd65dd10"
      },
      "id": "gTAMPiPCTpsg",
      "execution_count": 39,
      "outputs": [
        {
          "output_type": "display_data",
          "data": {
            "text/plain": [
              "<Figure size 720x504 with 1 Axes>"
            ],
            "image/png": "[encoded data removed]"
          },
          "metadata": {
            "needs_background": "light"
          }
        }
      ]
    },
    {
      "cell_type": "markdown",
      "source": [
        "Заметно, что оптимальная точность модели достигается примерно на 25-й эпохе."
      ],
      "metadata": {
        "id": "e0_3TLNRWa-7"
      },
      "id": "e0_3TLNRWa-7"
    }
  ],
  "metadata": {
    "kernelspec": {
      "display_name": "Python 3",
      "language": "python",
      "name": "python3"
    },
    "language_info": {
      "codemirror_mode": {
        "name": "ipython",
        "version": 3
      },
      "file_extension": ".py",
      "mimetype": "text/x-python",
      "name": "python",
      "nbconvert_exporter": "python",
      "pygments_lexer": "ipython3",
      "version": "3.6.4"
    },
    "papermill": {
      "default_parameters": {},
      "duration": null,
      "end_time": null,
      "environment_variables": {},
      "exception": null,
      "input_path": "__notebook__.ipynb",
      "output_path": "__notebook__.ipynb",
      "parameters": {},
      "start_time": "2023-01-23T18:25:27.801839",
      "version": "2.3.4"
    },
    "colab": {
      "provenance": []
    },
    "accelerator": "GPU",
    "gpuClass": "standard"
  },
  "nbformat": 4,
  "nbformat_minor": 5
}