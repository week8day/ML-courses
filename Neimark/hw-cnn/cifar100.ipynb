{
  "cells": [
    {
      "cell_type": "markdown",
      "id": "be5ffa26",
      "metadata": {
        "papermill": {
          "duration": 0.003496,
          "end_time": "2023-01-23T18:25:35.579659",
          "exception": false,
          "start_time": "2023-01-23T18:25:35.576163",
          "status": "completed"
        },
        "tags": [],
        "id": "be5ffa26"
      },
      "source": [
        "**Классификация изображений с помощью сверточных нейронных сетей**\n",
        "\n",
        "В данном задании Вам необходимо разработать архитектуру сверточной ИНС, обеспечивающую наибольшую точность при ограничении на количество операций (FLOPs <= 0.707e6).\n",
        "Заготовка кода для выполнения задания приведена выше. Вашей задачей будет заполнить пропущеные места, которые отмечены ключевым словом *None*.\n",
        "Необходимая точность (accuracy) сети на датасете CIFAR100 - 30%\n",
        "Желаемая точность (accuracy) сети на датасете CIFAR100 - 45%"
      ]
    },
    {
      "cell_type": "code",
      "execution_count": 16,
      "id": "088393fa",
      "metadata": {
        "papermill": {
          "duration": null,
          "end_time": null,
          "exception": false,
          "start_time": "2023-01-23T18:25:35.582447",
          "status": "running"
        },
        "tags": [],
        "colab": {
          "base_uri": "https://localhost:8080/"
        },
        "id": "088393fa",
        "outputId": "b4605da0-0897-442c-cbd5-89db59d4ca76"
      },
      "outputs": [
        {
          "output_type": "stream",
          "name": "stdout",
          "text": [
            "Looking in indexes: https://pypi.org/simple, https://us-python.pkg.dev/colab-wheels/public/simple/\n",
            "Requirement already satisfied: keras-flops in /usr/local/lib/python3.8/dist-packages (0.1.2)\n",
            "Requirement already satisfied: tensorflow<3.0,>=2.2 in /usr/local/lib/python3.8/dist-packages (from keras-flops) (2.9.2)\n",
            "Requirement already satisfied: absl-py>=1.0.0 in /usr/local/lib/python3.8/dist-packages (from tensorflow<3.0,>=2.2->keras-flops) (1.3.0)\n",
            "Requirement already satisfied: termcolor>=1.1.0 in /usr/local/lib/python3.8/dist-packages (from tensorflow<3.0,>=2.2->keras-flops) (2.2.0)\n",
            "Requirement already satisfied: libclang>=13.0.0 in /usr/local/lib/python3.8/dist-packages (from tensorflow<3.0,>=2.2->keras-flops) (15.0.6.1)\n",
            "Requirement already satisfied: setuptools in /usr/local/lib/python3.8/dist-packages (from tensorflow<3.0,>=2.2->keras-flops) (57.4.0)\n",
            "Requirement already satisfied: flatbuffers<2,>=1.12 in /usr/local/lib/python3.8/dist-packages (from tensorflow<3.0,>=2.2->keras-flops) (1.12)\n",
            "Requirement already satisfied: six>=1.12.0 in /usr/local/lib/python3.8/dist-packages (from tensorflow<3.0,>=2.2->keras-flops) (1.15.0)\n",
            "Requirement already satisfied: packaging in /usr/local/lib/python3.8/dist-packages (from tensorflow<3.0,>=2.2->keras-flops) (21.3)\n",
            "Requirement already satisfied: wrapt>=1.11.0 in /usr/local/lib/python3.8/dist-packages (from tensorflow<3.0,>=2.2->keras-flops) (1.14.1)\n",
            "Requirement already satisfied: google-pasta>=0.1.1 in /usr/local/lib/python3.8/dist-packages (from tensorflow<3.0,>=2.2->keras-flops) (0.2.0)\n",
            "Requirement already satisfied: tensorflow-estimator<2.10.0,>=2.9.0rc0 in /usr/local/lib/python3.8/dist-packages (from tensorflow<3.0,>=2.2->keras-flops) (2.9.0)\n",
            "Requirement already satisfied: protobuf<3.20,>=3.9.2 in /usr/local/lib/python3.8/dist-packages (from tensorflow<3.0,>=2.2->keras-flops) (3.19.6)\n",
            "Requirement already satisfied: astunparse>=1.6.0 in /usr/local/lib/python3.8/dist-packages (from tensorflow<3.0,>=2.2->keras-flops) (1.6.3)\n",
            "Requirement already satisfied: keras<2.10.0,>=2.9.0rc0 in /usr/local/lib/python3.8/dist-packages (from tensorflow<3.0,>=2.2->keras-flops) (2.9.0)\n",
            "Requirement already satisfied: gast<=0.4.0,>=0.2.1 in /usr/local/lib/python3.8/dist-packages (from tensorflow<3.0,>=2.2->keras-flops) (0.4.0)\n",
            "Requirement already satisfied: typing-extensions>=3.6.6 in /usr/local/lib/python3.8/dist-packages (from tensorflow<3.0,>=2.2->keras-flops) (4.4.0)\n",
            "Requirement already satisfied: h5py>=2.9.0 in /usr/local/lib/python3.8/dist-packages (from tensorflow<3.0,>=2.2->keras-flops) (3.1.0)\n",
            "Requirement already satisfied: tensorflow-io-gcs-filesystem>=0.23.1 in /usr/local/lib/python3.8/dist-packages (from tensorflow<3.0,>=2.2->keras-flops) (0.29.0)\n",
            "Requirement already satisfied: keras-preprocessing>=1.1.1 in /usr/local/lib/python3.8/dist-packages (from tensorflow<3.0,>=2.2->keras-flops) (1.1.2)\n",
            "Requirement already satisfied: numpy>=1.20 in /usr/local/lib/python3.8/dist-packages (from tensorflow<3.0,>=2.2->keras-flops) (1.21.6)\n",
            "Requirement already satisfied: opt-einsum>=2.3.2 in /usr/local/lib/python3.8/dist-packages (from tensorflow<3.0,>=2.2->keras-flops) (3.3.0)\n",
            "Requirement already satisfied: tensorboard<2.10,>=2.9 in /usr/local/lib/python3.8/dist-packages (from tensorflow<3.0,>=2.2->keras-flops) (2.9.1)\n",
            "Requirement already satisfied: grpcio<2.0,>=1.24.3 in /usr/local/lib/python3.8/dist-packages (from tensorflow<3.0,>=2.2->keras-flops) (1.51.1)\n",
            "Requirement already satisfied: wheel<1.0,>=0.23.0 in /usr/local/lib/python3.8/dist-packages (from astunparse>=1.6.0->tensorflow<3.0,>=2.2->keras-flops) (0.38.4)\n",
            "Requirement already satisfied: google-auth-oauthlib<0.5,>=0.4.1 in /usr/local/lib/python3.8/dist-packages (from tensorboard<2.10,>=2.9->tensorflow<3.0,>=2.2->keras-flops) (0.4.6)\n",
            "Requirement already satisfied: requests<3,>=2.21.0 in /usr/local/lib/python3.8/dist-packages (from tensorboard<2.10,>=2.9->tensorflow<3.0,>=2.2->keras-flops) (2.25.1)\n",
            "Requirement already satisfied: markdown>=2.6.8 in /usr/local/lib/python3.8/dist-packages (from tensorboard<2.10,>=2.9->tensorflow<3.0,>=2.2->keras-flops) (3.4.1)\n",
            "Requirement already satisfied: tensorboard-plugin-wit>=1.6.0 in /usr/local/lib/python3.8/dist-packages (from tensorboard<2.10,>=2.9->tensorflow<3.0,>=2.2->keras-flops) (1.8.1)\n",
            "Requirement already satisfied: tensorboard-data-server<0.7.0,>=0.6.0 in /usr/local/lib/python3.8/dist-packages (from tensorboard<2.10,>=2.9->tensorflow<3.0,>=2.2->keras-flops) (0.6.1)\n",
            "Requirement already satisfied: google-auth<3,>=1.6.3 in /usr/local/lib/python3.8/dist-packages (from tensorboard<2.10,>=2.9->tensorflow<3.0,>=2.2->keras-flops) (2.16.0)\n",
            "Requirement already satisfied: werkzeug>=1.0.1 in /usr/local/lib/python3.8/dist-packages (from tensorboard<2.10,>=2.9->tensorflow<3.0,>=2.2->keras-flops) (1.0.1)\n",
            "Requirement already satisfied: pyparsing!=3.0.5,>=2.0.2 in /usr/local/lib/python3.8/dist-packages (from packaging->tensorflow<3.0,>=2.2->keras-flops) (3.0.9)\n",
            "Requirement already satisfied: rsa<5,>=3.1.4 in /usr/local/lib/python3.8/dist-packages (from google-auth<3,>=1.6.3->tensorboard<2.10,>=2.9->tensorflow<3.0,>=2.2->keras-flops) (4.9)\n",
            "Requirement already satisfied: pyasn1-modules>=0.2.1 in /usr/local/lib/python3.8/dist-packages (from google-auth<3,>=1.6.3->tensorboard<2.10,>=2.9->tensorflow<3.0,>=2.2->keras-flops) (0.2.8)\n",
            "Requirement already satisfied: cachetools<6.0,>=2.0.0 in /usr/local/lib/python3.8/dist-packages (from google-auth<3,>=1.6.3->tensorboard<2.10,>=2.9->tensorflow<3.0,>=2.2->keras-flops) (5.2.1)\n",
            "Requirement already satisfied: requests-oauthlib>=0.7.0 in /usr/local/lib/python3.8/dist-packages (from google-auth-oauthlib<0.5,>=0.4.1->tensorboard<2.10,>=2.9->tensorflow<3.0,>=2.2->keras-flops) (1.3.1)\n",
            "Requirement already satisfied: importlib-metadata>=4.4 in /usr/local/lib/python3.8/dist-packages (from markdown>=2.6.8->tensorboard<2.10,>=2.9->tensorflow<3.0,>=2.2->keras-flops) (6.0.0)\n",
            "Requirement already satisfied: chardet<5,>=3.0.2 in /usr/local/lib/python3.8/dist-packages (from requests<3,>=2.21.0->tensorboard<2.10,>=2.9->tensorflow<3.0,>=2.2->keras-flops) (4.0.0)\n",
            "Requirement already satisfied: urllib3<1.27,>=1.21.1 in /usr/local/lib/python3.8/dist-packages (from requests<3,>=2.21.0->tensorboard<2.10,>=2.9->tensorflow<3.0,>=2.2->keras-flops) (1.24.3)\n",
            "Requirement already satisfied: certifi>=2017.4.17 in /usr/local/lib/python3.8/dist-packages (from requests<3,>=2.21.0->tensorboard<2.10,>=2.9->tensorflow<3.0,>=2.2->keras-flops) (2022.12.7)\n",
            "Requirement already satisfied: idna<3,>=2.5 in /usr/local/lib/python3.8/dist-packages (from requests<3,>=2.21.0->tensorboard<2.10,>=2.9->tensorflow<3.0,>=2.2->keras-flops) (2.10)\n",
            "Requirement already satisfied: zipp>=0.5 in /usr/local/lib/python3.8/dist-packages (from importlib-metadata>=4.4->markdown>=2.6.8->tensorboard<2.10,>=2.9->tensorflow<3.0,>=2.2->keras-flops) (3.11.0)\n",
            "Requirement already satisfied: pyasn1<0.5.0,>=0.4.6 in /usr/local/lib/python3.8/dist-packages (from pyasn1-modules>=0.2.1->google-auth<3,>=1.6.3->tensorboard<2.10,>=2.9->tensorflow<3.0,>=2.2->keras-flops) (0.4.8)\n",
            "Requirement already satisfied: oauthlib>=3.0.0 in /usr/local/lib/python3.8/dist-packages (from requests-oauthlib>=0.7.0->google-auth-oauthlib<0.5,>=0.4.1->tensorboard<2.10,>=2.9->tensorflow<3.0,>=2.2->keras-flops) (3.2.2)\n"
          ]
        }
      ],
      "source": [
        "!pip install keras-flops"
      ]
    },
    {
      "cell_type": "code",
      "execution_count": 17,
      "id": "abf032ad",
      "metadata": {
        "_cell_guid": "b1076dfc-b9ad-4769-8c92-a6c4dae69d19",
        "_uuid": "8f2839f25d086af736a60e9eeb907d3b93b6e0e5",
        "papermill": {
          "duration": null,
          "end_time": null,
          "exception": null,
          "start_time": null,
          "status": "pending"
        },
        "tags": [],
        "id": "abf032ad"
      },
      "outputs": [],
      "source": [
        "# Импорт необходимых библиотек\n",
        "import numpy as np\n",
        "import pandas as pd\n",
        "import tensorflow as tf\n",
        "import matplotlib.pyplot as plt\n",
        "from keras_flops import get_flops"
      ]
    },
    {
      "cell_type": "code",
      "execution_count": 18,
      "id": "3ad364d8",
      "metadata": {
        "papermill": {
          "duration": null,
          "end_time": null,
          "exception": null,
          "start_time": null,
          "status": "pending"
        },
        "tags": [],
        "id": "3ad364d8"
      },
      "outputs": [],
      "source": [
        "# Глобальные константы\n",
        "CLASSES       = 100\n",
        "BATCH_SIZE    = 128\n",
        "LEARNING_RATE = 1e-2"
      ]
    },
    {
      "cell_type": "code",
      "execution_count": 19,
      "id": "f6bd608b",
      "metadata": {
        "papermill": {
          "duration": null,
          "end_time": null,
          "exception": null,
          "start_time": null,
          "status": "pending"
        },
        "tags": [],
        "id": "f6bd608b"
      },
      "outputs": [],
      "source": [
        "# Выполните загрузку модели\n",
        "(X_train, y_train), (X_val, y_val) = tf.keras.datasets.cifar100.load_data()"
      ]
    },
    {
      "cell_type": "code",
      "execution_count": 20,
      "id": "33e98cd8",
      "metadata": {
        "papermill": {
          "duration": null,
          "end_time": null,
          "exception": null,
          "start_time": null,
          "status": "pending"
        },
        "tags": [],
        "id": "33e98cd8"
      },
      "outputs": [],
      "source": [
        "# Преобразуйте метки классов в one_hot формат\n",
        "y_train = (y_train == np.arange(CLASSES)).astype(np.float32)\n",
        "y_val = (y_val == np.arange(CLASSES)).astype(np.float32)"
      ]
    },
    {
      "cell_type": "code",
      "execution_count": 21,
      "id": "19b2c913",
      "metadata": {
        "papermill": {
          "duration": null,
          "end_time": null,
          "exception": null,
          "start_time": null,
          "status": "pending"
        },
        "tags": [],
        "id": "19b2c913"
      },
      "outputs": [],
      "source": [
        "# убедитесь, что данная ячейка выполняется без ошибок\n",
        "assert X_train.shape == (50000, 32, 32, 3)\n",
        "assert X_val.shape == (10000, 32, 32, 3)\n",
        "assert y_train.shape == (50000, 100)\n",
        "assert y_val.shape == (10000, 100)"
      ]
    },
    {
      "cell_type": "code",
      "execution_count": 22,
      "id": "2ab6fda7",
      "metadata": {
        "papermill": {
          "duration": null,
          "end_time": null,
          "exception": null,
          "start_time": null,
          "status": "pending"
        },
        "tags": [],
        "id": "2ab6fda7"
      },
      "outputs": [],
      "source": [
        "# Задайте архитектуру модели\n",
        "model = tf.keras.models.Sequential([\n",
        "    tf.keras.Input(shape=[32, 32, 3]),\n",
        "\n",
        "    tf.keras.layers.Conv2D(30, kernel_size=(2, 2), strides=(2, 2), padding='same'),\n",
        "    tf.keras.layers.BatchNormalization(),\n",
        "    tf.keras.layers.Activation('relu'),\n",
        "    tf.keras.layers.MaxPooling2D(pool_size=(2, 2)),\n",
        "\n",
        "    tf.keras.layers.Conv2D(24, kernel_size=(2, 2), padding='same'),\n",
        "    tf.keras.layers.BatchNormalization(),\n",
        "    tf.keras.layers.Activation('relu'),\n",
        "    tf.keras.layers.MaxPooling2D(pool_size=(2, 2)),\n",
        "\n",
        "    tf.keras.layers.Flatten(),\n",
        "    tf.keras.layers.BatchNormalization(),  \n",
        "    tf.keras.layers.Dropout(0.3), \n",
        "    tf.keras.layers.Activation('relu'),\n",
        "    tf.keras.layers.Dense(CLASSES),\n",
        "    tf.keras.layers.Activation('softmax'),\n",
        "])"
      ]
    },
    {
      "cell_type": "code",
      "execution_count": 23,
      "id": "ef225707",
      "metadata": {
        "papermill": {
          "duration": null,
          "end_time": null,
          "exception": null,
          "start_time": null,
          "status": "pending"
        },
        "tags": [],
        "colab": {
          "base_uri": "https://localhost:8080/"
        },
        "id": "ef225707",
        "outputId": "c01f60ba-7c67-4123-b11c-fbd24b3b94ae"
      },
      "outputs": [
        {
          "output_type": "stream",
          "name": "stdout",
          "text": [
            "FLOPs: 0.6706e6\n"
          ]
        }
      ],
      "source": [
        "# вычисление количества операций\n",
        "flops = get_flops(model, batch_size=1)\n",
        "print(f\"FLOPs: {(flops / 1e6):.4f}e6\")"
      ]
    },
    {
      "cell_type": "code",
      "execution_count": 24,
      "id": "de1d9567",
      "metadata": {
        "papermill": {
          "duration": null,
          "end_time": null,
          "exception": null,
          "start_time": null,
          "status": "pending"
        },
        "tags": [],
        "colab": {
          "base_uri": "https://localhost:8080/"
        },
        "id": "de1d9567",
        "outputId": "bebe1a73-9601-4c0b-faf9-2e5935b667a9"
      },
      "outputs": [
        {
          "output_type": "stream",
          "name": "stdout",
          "text": [
            "Model: \"sequential_1\"\n",
            "_________________________________________________________________\n",
            " Layer (type)                Output Shape              Param #   \n",
            "=================================================================\n",
            " conv2d_2 (Conv2D)           (None, 16, 16, 30)        390       \n",
            "                                                                 \n",
            " batch_normalization_3 (Batc  (None, 16, 16, 30)       120       \n",
            " hNormalization)                                                 \n",
            "                                                                 \n",
            " activation_4 (Activation)   (None, 16, 16, 30)        0         \n",
            "                                                                 \n",
            " max_pooling2d_2 (MaxPooling  (None, 8, 8, 30)         0         \n",
            " 2D)                                                             \n",
            "                                                                 \n",
            " conv2d_3 (Conv2D)           (None, 8, 8, 24)          2904      \n",
            "                                                                 \n",
            " batch_normalization_4 (Batc  (None, 8, 8, 24)         96        \n",
            " hNormalization)                                                 \n",
            "                                                                 \n",
            " activation_5 (Activation)   (None, 8, 8, 24)          0         \n",
            "                                                                 \n",
            " max_pooling2d_3 (MaxPooling  (None, 4, 4, 24)         0         \n",
            " 2D)                                                             \n",
            "                                                                 \n",
            " flatten_1 (Flatten)         (None, 384)               0         \n",
            "                                                                 \n",
            " batch_normalization_5 (Batc  (None, 384)              1536      \n",
            " hNormalization)                                                 \n",
            "                                                                 \n",
            " dropout_1 (Dropout)         (None, 384)               0         \n",
            "                                                                 \n",
            " activation_6 (Activation)   (None, 384)               0         \n",
            "                                                                 \n",
            " dense_1 (Dense)             (None, 100)               38500     \n",
            "                                                                 \n",
            " activation_7 (Activation)   (None, 100)               0         \n",
            "                                                                 \n",
            "=================================================================\n",
            "Total params: 43,546\n",
            "Trainable params: 42,670\n",
            "Non-trainable params: 876\n",
            "_________________________________________________________________\n"
          ]
        }
      ],
      "source": [
        "# вывод краткой информации о модели\n",
        "model.summary()"
      ]
    },
    {
      "cell_type": "code",
      "execution_count": 25,
      "id": "e927e234",
      "metadata": {
        "papermill": {
          "duration": null,
          "end_time": null,
          "exception": null,
          "start_time": null,
          "status": "pending"
        },
        "tags": [],
        "id": "e927e234"
      },
      "outputs": [],
      "source": [
        "# параметры данной ячейки могут быть изменены для получения более высокой точности\n",
        "model.compile(\n",
        "    optimizer=tf.keras.optimizers.Adam(\n",
        "        learning_rate=tf.keras.optimizers.schedules.ExponentialDecay(\n",
        "            initial_learning_rate=LEARNING_RATE,\n",
        "            decay_steps=1500,\n",
        "            decay_rate=0.5\n",
        "        )\n",
        "    ),\n",
        "    loss=tf.keras.losses.CategoricalCrossentropy(),\n",
        "    metrics=['accuracy']\n",
        ")"
      ]
    },
    {
      "cell_type": "code",
      "execution_count": 26,
      "id": "49dfe428",
      "metadata": {
        "papermill": {
          "duration": null,
          "end_time": null,
          "exception": null,
          "start_time": null,
          "status": "pending"
        },
        "tags": [],
        "colab": {
          "base_uri": "https://localhost:8080/"
        },
        "id": "49dfe428",
        "outputId": "8a416035-6ed1-442c-e279-049669d105f1"
      },
      "outputs": [
        {
          "output_type": "stream",
          "name": "stdout",
          "text": [
            "Epoch 1/40\n",
            "391/391 [==============================] - 3s 6ms/step - loss: 3.5411 - accuracy: 0.1782 - val_loss: 3.2927 - val_accuracy: 0.2123\n",
            "Epoch 2/40\n",
            "391/391 [==============================] - 2s 5ms/step - loss: 3.0333 - accuracy: 0.2631 - val_loss: 3.0271 - val_accuracy: 0.2687\n",
            "Epoch 3/40\n",
            "391/391 [==============================] - 2s 6ms/step - loss: 2.8707 - accuracy: 0.2939 - val_loss: 2.9251 - val_accuracy: 0.2923\n",
            "Epoch 4/40\n",
            "391/391 [==============================] - 3s 9ms/step - loss: 2.7498 - accuracy: 0.3167 - val_loss: 2.7694 - val_accuracy: 0.3217\n",
            "Epoch 5/40\n",
            "391/391 [==============================] - 4s 10ms/step - loss: 2.6705 - accuracy: 0.3326 - val_loss: 2.7015 - val_accuracy: 0.3287\n",
            "Epoch 6/40\n",
            "391/391 [==============================] - 4s 9ms/step - loss: 2.6111 - accuracy: 0.3452 - val_loss: 2.8878 - val_accuracy: 0.2959\n",
            "Epoch 7/40\n",
            "391/391 [==============================] - 2s 6ms/step - loss: 2.5644 - accuracy: 0.3550 - val_loss: 2.6007 - val_accuracy: 0.3531\n",
            "Epoch 8/40\n",
            "391/391 [==============================] - 2s 5ms/step - loss: 2.5150 - accuracy: 0.3660 - val_loss: 2.6306 - val_accuracy: 0.3471\n",
            "Epoch 9/40\n",
            "391/391 [==============================] - 2s 5ms/step - loss: 2.4977 - accuracy: 0.3672 - val_loss: 2.6672 - val_accuracy: 0.3320\n",
            "Epoch 10/40\n",
            "391/391 [==============================] - 2s 5ms/step - loss: 2.4646 - accuracy: 0.3751 - val_loss: 2.6125 - val_accuracy: 0.3496\n",
            "Epoch 11/40\n",
            "391/391 [==============================] - 2s 5ms/step - loss: 2.4317 - accuracy: 0.3815 - val_loss: 2.4658 - val_accuracy: 0.3818\n",
            "Epoch 12/40\n",
            "391/391 [==============================] - 2s 5ms/step - loss: 2.4223 - accuracy: 0.3843 - val_loss: 2.4659 - val_accuracy: 0.3770\n",
            "Epoch 13/40\n",
            "391/391 [==============================] - 2s 5ms/step - loss: 2.4037 - accuracy: 0.3872 - val_loss: 2.4642 - val_accuracy: 0.3815\n",
            "Epoch 14/40\n",
            "391/391 [==============================] - 2s 5ms/step - loss: 2.3945 - accuracy: 0.3905 - val_loss: 2.4417 - val_accuracy: 0.3873\n",
            "Epoch 15/40\n",
            "391/391 [==============================] - 2s 5ms/step - loss: 2.3837 - accuracy: 0.3907 - val_loss: 2.4384 - val_accuracy: 0.3873\n",
            "Epoch 16/40\n",
            "391/391 [==============================] - 2s 5ms/step - loss: 2.3721 - accuracy: 0.3939 - val_loss: 2.4473 - val_accuracy: 0.3856\n",
            "Epoch 17/40\n",
            "391/391 [==============================] - 2s 5ms/step - loss: 2.3643 - accuracy: 0.3956 - val_loss: 2.4243 - val_accuracy: 0.3919\n",
            "Epoch 18/40\n",
            "391/391 [==============================] - 2s 5ms/step - loss: 2.3570 - accuracy: 0.3980 - val_loss: 2.4156 - val_accuracy: 0.3931\n",
            "Epoch 19/40\n",
            "391/391 [==============================] - 2s 5ms/step - loss: 2.3559 - accuracy: 0.3984 - val_loss: 2.4117 - val_accuracy: 0.3920\n",
            "Epoch 20/40\n",
            "391/391 [==============================] - 2s 5ms/step - loss: 2.3441 - accuracy: 0.3997 - val_loss: 2.4071 - val_accuracy: 0.3935\n",
            "Epoch 21/40\n",
            "391/391 [==============================] - 2s 5ms/step - loss: 2.3465 - accuracy: 0.3987 - val_loss: 2.4089 - val_accuracy: 0.3919\n",
            "Epoch 22/40\n",
            "391/391 [==============================] - 2s 5ms/step - loss: 2.3410 - accuracy: 0.4016 - val_loss: 2.3972 - val_accuracy: 0.3937\n",
            "Epoch 23/40\n",
            "391/391 [==============================] - 2s 5ms/step - loss: 2.3359 - accuracy: 0.4002 - val_loss: 2.3969 - val_accuracy: 0.3955\n",
            "Epoch 24/40\n",
            "391/391 [==============================] - 2s 5ms/step - loss: 2.3385 - accuracy: 0.4016 - val_loss: 2.3993 - val_accuracy: 0.3941\n",
            "Epoch 25/40\n",
            "391/391 [==============================] - 2s 5ms/step - loss: 2.3397 - accuracy: 0.3990 - val_loss: 2.3990 - val_accuracy: 0.3955\n",
            "Epoch 26/40\n",
            "391/391 [==============================] - 2s 6ms/step - loss: 2.3321 - accuracy: 0.4036 - val_loss: 2.3948 - val_accuracy: 0.3956\n",
            "Epoch 27/40\n",
            "391/391 [==============================] - 2s 6ms/step - loss: 2.3272 - accuracy: 0.4054 - val_loss: 2.3960 - val_accuracy: 0.3965\n",
            "Epoch 28/40\n",
            "391/391 [==============================] - 2s 5ms/step - loss: 2.3348 - accuracy: 0.4029 - val_loss: 2.3945 - val_accuracy: 0.3962\n",
            "Epoch 29/40\n",
            "391/391 [==============================] - 2s 5ms/step - loss: 2.3268 - accuracy: 0.4044 - val_loss: 2.3956 - val_accuracy: 0.3963\n",
            "Epoch 30/40\n",
            "391/391 [==============================] - 2s 5ms/step - loss: 2.3201 - accuracy: 0.4047 - val_loss: 2.3957 - val_accuracy: 0.3955\n",
            "Epoch 31/40\n",
            "391/391 [==============================] - 2s 5ms/step - loss: 2.3280 - accuracy: 0.4037 - val_loss: 2.3942 - val_accuracy: 0.3950\n",
            "Epoch 32/40\n",
            "391/391 [==============================] - 2s 5ms/step - loss: 2.3268 - accuracy: 0.4046 - val_loss: 2.3944 - val_accuracy: 0.3967\n",
            "Epoch 33/40\n",
            "391/391 [==============================] - 2s 5ms/step - loss: 2.3275 - accuracy: 0.4029 - val_loss: 2.3937 - val_accuracy: 0.3960\n",
            "Epoch 34/40\n",
            "391/391 [==============================] - 2s 5ms/step - loss: 2.3268 - accuracy: 0.4044 - val_loss: 2.3941 - val_accuracy: 0.3962\n",
            "Epoch 35/40\n",
            "391/391 [==============================] - 2s 5ms/step - loss: 2.3293 - accuracy: 0.4034 - val_loss: 2.3924 - val_accuracy: 0.3955\n",
            "Epoch 36/40\n",
            "391/391 [==============================] - 2s 5ms/step - loss: 2.3260 - accuracy: 0.4038 - val_loss: 2.3935 - val_accuracy: 0.3954\n",
            "Epoch 37/40\n",
            "391/391 [==============================] - 2s 5ms/step - loss: 2.3259 - accuracy: 0.4037 - val_loss: 2.3932 - val_accuracy: 0.3953\n",
            "Epoch 38/40\n",
            "391/391 [==============================] - 2s 6ms/step - loss: 2.3288 - accuracy: 0.4042 - val_loss: 2.3930 - val_accuracy: 0.3961\n",
            "Epoch 39/40\n",
            "391/391 [==============================] - 3s 7ms/step - loss: 2.3276 - accuracy: 0.4047 - val_loss: 2.3934 - val_accuracy: 0.3961\n",
            "Epoch 40/40\n",
            "391/391 [==============================] - 2s 5ms/step - loss: 2.3224 - accuracy: 0.4039 - val_loss: 2.3930 - val_accuracy: 0.3957\n"
          ]
        }
      ],
      "source": [
        "# обучения модели\n",
        "result = model.fit(\n",
        "    x=X_train,\n",
        "    y=y_train,\n",
        "    validation_data=(X_val, y_val),\n",
        "    batch_size=BATCH_SIZE,\n",
        "    callbacks=[\n",
        "        tf.keras.callbacks.ModelCheckpoint(filepath=\"{epoch:02d}-{val_accuracy:.2f}.hdf5\", save_best_only=True)\n",
        "    ],\n",
        "    use_multiprocessing=True,\n",
        "    workers=8,\n",
        "    epochs=40\n",
        ")"
      ]
    },
    {
      "cell_type": "code",
      "execution_count": 27,
      "id": "01094085",
      "metadata": {
        "papermill": {
          "duration": null,
          "end_time": null,
          "exception": null,
          "start_time": null,
          "status": "pending"
        },
        "tags": [],
        "id": "01094085",
        "colab": {
          "base_uri": "https://localhost:8080/"
        },
        "outputId": "9ebf123b-5bb9-41d6-f1a8-3e6528267820"
      },
      "outputs": [
        {
          "output_type": "stream",
          "name": "stdout",
          "text": [
            "Model accuracy: 0.3957\n"
          ]
        }
      ],
      "source": [
        "scores = model.evaluate(X_val, y_val, verbose=0) \n",
        "print(f\"Model accuracy: {scores[1]:.4f}\")"
      ]
    },
    {
      "cell_type": "markdown",
      "source": [
        "Визуализируем процесс обучения"
      ],
      "metadata": {
        "id": "a0rzPkbjTQK9"
      },
      "id": "a0rzPkbjTQK9"
    },
    {
      "cell_type": "code",
      "source": [
        "plt.figure(figsize=(10, 7))\n",
        "plt.plot(result.history['accuracy'])\n",
        "plt.plot(result.history['val_accuracy'])\n",
        "plt.title('Model Accuracy')\n",
        "plt.ylabel('accuracy')\n",
        "plt.xlabel('epoch')\n",
        "plt.legend(['train', 'val'], loc='upper left')\n",
        "plt.show()"
      ],
      "metadata": {
        "colab": {
          "base_uri": "https://localhost:8080/",
          "height": 458
        },
        "id": "Eh9DqvYjTJXV",
        "outputId": "37e9e2eb-f482-462a-b3b4-367ac17f1345"
      },
      "id": "Eh9DqvYjTJXV",
      "execution_count": 28,
      "outputs": [
        {
          "output_type": "display_data",
          "data": {
            "text/plain": [
              "<Figure size 720x504 with 1 Axes>"
            ],
            "image/png": "[encoded data removed]"
          },
          "metadata": {
            "needs_background": "light"
          }
        }
      ]
    },
    {
      "cell_type": "code",
      "source": [
        "plt.figure(figsize=(10, 7))\n",
        "plt.plot(result.history['loss'])\n",
        "plt.plot(result.history['val_loss'])\n",
        "plt.title('Model Loss')\n",
        "plt.ylabel('loss')\n",
        "plt.xlabel('epoch')\n",
        "plt.legend(['train', 'val'], loc='upper left')\n",
        "plt.show()"
      ],
      "metadata": {
        "colab": {
          "base_uri": "https://localhost:8080/",
          "height": 458
        },
        "id": "gTAMPiPCTpsg",
        "outputId": "a698dff6-c24d-4002-dd16-ddc6c48a4987"
      },
      "id": "gTAMPiPCTpsg",
      "execution_count": 29,
      "outputs": [
        {
          "output_type": "display_data",
          "data": {
            "text/plain": [
              "<Figure size 720x504 with 1 Axes>"
            ],
            "image/png": "[encoded data removed]"
          },
          "metadata": {
            "needs_background": "light"
          }
        }
      ]
    },
    {
      "cell_type": "markdown",
      "source": [
        "Заметно, что оптимальная точность модели достигается примерно на 25-й эпохе."
      ],
      "metadata": {
        "id": "e0_3TLNRWa-7"
      },
      "id": "e0_3TLNRWa-7"
    }
  ],
  "metadata": {
    "kernelspec": {
      "display_name": "Python 3",
      "language": "python",
      "name": "python3"
    },
    "language_info": {
      "codemirror_mode": {
        "name": "ipython",
        "version": 3
      },
      "file_extension": ".py",
      "mimetype": "text/x-python",
      "name": "python",
      "nbconvert_exporter": "python",
      "pygments_lexer": "ipython3",
      "version": "3.6.4"
    },
    "papermill": {
      "default_parameters": {},
      "duration": null,
      "end_time": null,
      "environment_variables": {},
      "exception": null,
      "input_path": "__notebook__.ipynb",
      "output_path": "__notebook__.ipynb",
      "parameters": {},
      "start_time": "2023-01-23T18:25:27.801839",
      "version": "2.3.4"
    },
    "colab": {
      "provenance": []
    },
    "accelerator": "GPU",
    "gpuClass": "standard"
  },
  "nbformat": 4,
  "nbformat_minor": 5
}