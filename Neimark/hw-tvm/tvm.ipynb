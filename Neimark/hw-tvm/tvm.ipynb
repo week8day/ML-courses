{
  "cells": [
    {
      "cell_type": "markdown",
      "metadata": {
        "id": "I-G3Sgx1Bls8"
      },
      "source": [
        "# Apache TVM: тензорный компилятор для ML решений"
      ]
    },
    {
      "cell_type": "markdown",
      "metadata": {
        "id": "tnlxgRZIBlxM"
      },
      "source": [
        "## Установка TVM через pip"
      ]
    },
    {
      "cell_type": "markdown",
      "metadata": {
        "id": "0jUuPRG3BlxP",
        "scrolled": true
      },
      "source": [
        "- Устанавливаем TVM:"
      ]
    },
    {
      "cell_type": "code",
      "execution_count": null,
      "metadata": {
        "colab": {
          "base_uri": "https://localhost:8080/"
        },
        "id": "WJcYFkBjBlxQ",
        "outputId": "4b53e3a8-b05d-4bcf-a6ca-a1dfd82a2b5c"
      },
      "outputs": [
        {
          "output_type": "stream",
          "name": "stdout",
          "text": [
            "Looking in indexes: https://pypi.org/simple, https://us-python.pkg.dev/colab-wheels/public/simple/\n",
            "Collecting apache-tvm~=0.11\n",
            "  Downloading apache_tvm-0.12.dev54-cp38-cp38-manylinux_2_17_x86_64.manylinux2014_x86_64.whl (47.6 MB)\n",
            "\u001b[2K     \u001b[90m━━━━━━━━━━━━━━━━━━━━━━━━━━━━━━━━━━━━━━━━\u001b[0m \u001b[32m47.6/47.6 MB\u001b[0m \u001b[31m15.2 MB/s\u001b[0m eta \u001b[36m0:00:00\u001b[0m\n",
            "\u001b[?25hRequirement already satisfied: cloudpickle in /usr/local/lib/python3.8/dist-packages (from apache-tvm~=0.11) (2.2.1)\n",
            "Requirement already satisfied: psutil in /usr/local/lib/python3.8/dist-packages (from apache-tvm~=0.11) (5.4.8)\n",
            "Requirement already satisfied: attrs in /usr/local/lib/python3.8/dist-packages (from apache-tvm~=0.11) (22.2.0)\n",
            "Requirement already satisfied: decorator in /usr/local/lib/python3.8/dist-packages (from apache-tvm~=0.11) (4.4.2)\n",
            "Requirement already satisfied: numpy<=1.23.* in /usr/local/lib/python3.8/dist-packages (from apache-tvm~=0.11) (1.21.6)\n",
            "Requirement already satisfied: tornado in /usr/local/lib/python3.8/dist-packages (from apache-tvm~=0.11) (6.0.4)\n",
            "Requirement already satisfied: scipy in /usr/local/lib/python3.8/dist-packages (from apache-tvm~=0.11) (1.7.3)\n",
            "Installing collected packages: apache-tvm\n",
            "Successfully installed apache-tvm-0.12.dev54\n"
          ]
        }
      ],
      "source": [
        "!pip install --pre apache-tvm~=0.11"
      ]
    },
    {
      "cell_type": "markdown",
      "metadata": {
        "id": "ADwFr_4gBlxS"
      },
      "source": [
        "- Импортируем и проверяем версию TVM:"
      ]
    },
    {
      "cell_type": "code",
      "execution_count": null,
      "metadata": {
        "colab": {
          "base_uri": "https://localhost:8080/"
        },
        "id": "wQDVtBxyBlxS",
        "outputId": "a35195f1-11de-4b52-bbec-15c3e0c3b1c6"
      },
      "outputs": [
        {
          "output_type": "stream",
          "name": "stdout",
          "text": [
            "0.12.dev54\n"
          ]
        }
      ],
      "source": [
        "import tvm\n",
        "print(tvm.__version__)"
      ]
    },
    {
      "cell_type": "markdown",
      "metadata": {
        "id": "HBn_ftCKBlxT"
      },
      "source": [
        "# Компиляция модели"
      ]
    },
    {
      "cell_type": "markdown",
      "metadata": {
        "id": "emqpZQkuBlxT"
      },
      "source": [
        "## Импорт модели в TVM"
      ]
    },
    {
      "cell_type": "markdown",
      "metadata": {
        "id": "Ux0421ICBlxU"
      },
      "source": [
        "## Создание простой свёрточной модели для распознавания изображений из набора CIFAR-100\n",
        "\n",
        "- Установим необходимые библиотеки:"
      ]
    },
    {
      "cell_type": "code",
      "execution_count": null,
      "metadata": {
        "id": "vqQqFs0GBlxU"
      },
      "outputs": [],
      "source": [
        "import numpy as np\n",
        "import pandas as pd\n",
        "import tensorflow as tf\n",
        "import keras\n",
        "import matplotlib.pyplot as plt\n",
        "\n",
        "import warnings\n",
        "warnings.filterwarnings('ignore')"
      ]
    },
    {
      "cell_type": "markdown",
      "metadata": {
        "id": "VJJ5Aa6hBlxV"
      },
      "source": [
        "- Уменьшим уровень логирования TensorFlow, чтобы игнорировать сообщения о том, с какими инструкциями TF был построен."
      ]
    },
    {
      "cell_type": "code",
      "execution_count": null,
      "metadata": {
        "id": "rjTojTOBBlxW"
      },
      "outputs": [],
      "source": [
        "import os\n",
        "os.environ['TF_CPP_MIN_LOG_LEVEL'] = '1'"
      ]
    },
    {
      "cell_type": "markdown",
      "metadata": {
        "id": "8qbC4cxIImwZ"
      },
      "source": [
        "- Константы"
      ]
    },
    {
      "cell_type": "code",
      "execution_count": null,
      "metadata": {
        "id": "Vx4GOEAxIkOj"
      },
      "outputs": [],
      "source": [
        "CLASSES       = 100\n",
        "BATCH_SIZE    = 128\n",
        "LEARNING_RATE = 1e-3"
      ]
    },
    {
      "cell_type": "markdown",
      "metadata": {
        "id": "h8pr21jyBlxW"
      },
      "source": [
        "- Загрузим данные, разделим их на тренировочную и тестовую части:"
      ]
    },
    {
      "cell_type": "code",
      "execution_count": null,
      "metadata": {
        "id": "MmebgZOjBlxW",
        "colab": {
          "base_uri": "https://localhost:8080/"
        },
        "outputId": "0d79ea7b-f2fb-4a23-a389-dc2f61776101"
      },
      "outputs": [
        {
          "output_type": "stream",
          "name": "stdout",
          "text": [
            "Downloading data from https://www.cs.toronto.edu/~kriz/cifar-100-python.tar.gz\n",
            "169001437/169001437 [==============================] - 15s 0us/step\n"
          ]
        }
      ],
      "source": [
        "from keras.datasets import cifar100\n",
        "(X_train, y_train), (X_test, y_test) = cifar100.load_data()"
      ]
    },
    {
      "cell_type": "markdown",
      "metadata": {
        "id": "EUUyQoEpBlxX"
      },
      "source": [
        "- Выводим размер изображения и отрисовываем его с помощью `matplotlib`:"
      ]
    },
    {
      "cell_type": "code",
      "execution_count": null,
      "metadata": {
        "colab": {
          "base_uri": "https://localhost:8080/",
          "height": 303
        },
        "id": "ghy4iAIFBlxX",
        "outputId": "da4d055a-33bb-4f51-ad63-fffc5017b267"
      },
      "outputs": [
        {
          "output_type": "stream",
          "name": "stdout",
          "text": [
            "Image shape:  (32, 32, 3)\n"
          ]
        },
        {
          "output_type": "execute_result",
          "data": {
            "text/plain": [
              "<matplotlib.image.AxesImage at 0x7f56784656d0>"
            ]
          },
          "metadata": {},
          "execution_count": 8
        },
        {
          "output_type": "display_data",
          "data": {
            "text/plain": [
              "<Figure size 432x288 with 1 Axes>"
            ],
            "image/png": "[encoded data removed]"
          },
          "metadata": {
            "needs_background": "light"
          }
        }
      ],
      "source": [
        "print(\"Image shape: \", X_train[10].shape)\n",
        "plt.imshow(X_train[10])"
      ]
    },
    {
      "cell_type": "markdown",
      "metadata": {
        "id": "YqApk1UZBlxY"
      },
      "source": [
        "## Подготавливаем данные\n",
        "\n",
        "- Добавляем размерность с каналом в массивы с тренировочными и тестовыми данными:"
      ]
    },
    {
      "cell_type": "code",
      "execution_count": null,
      "metadata": {
        "id": "oSahFvoeKeKf"
      },
      "outputs": [],
      "source": [
        "y_train = (y_train == np.arange(CLASSES)).astype(np.float32)\n",
        "y_test = (y_test == np.arange(CLASSES)).astype(np.float32)"
      ]
    },
    {
      "cell_type": "markdown",
      "metadata": {
        "id": "1q5PsdGSBlxZ"
      },
      "source": [
        "## Создаём модель"
      ]
    },
    {
      "cell_type": "code",
      "execution_count": null,
      "metadata": {
        "id": "pppnLRSqK9gH"
      },
      "outputs": [],
      "source": [
        "from keras.models import Sequential\n",
        "from keras.layers import Input, Dense, Conv2D, Flatten, BatchNormalization, Activation, MaxPooling2D, Dropout"
      ]
    },
    {
      "cell_type": "code",
      "execution_count": null,
      "metadata": {
        "id": "SfNkzFYTGBnW"
      },
      "outputs": [],
      "source": [
        "model = Sequential()\n",
        "model.add(Conv2D(64, kernel_size=2, strides=(2, 2), input_shape=(32, 32, 3), padding=\"same\", name=\"input\"))\n",
        "model.add(BatchNormalization())\n",
        "model.add(Activation('relu'))\n",
        "model.add(MaxPooling2D(pool_size=(2, 2)))\n",
        "model.add(Conv2D(32, kernel_size=2, padding=\"same\"))\n",
        "model.add(BatchNormalization())\n",
        "model.add(Activation('relu'))\n",
        "model.add(MaxPooling2D(pool_size=(2, 2)))\n",
        "model.add(Flatten())\n",
        "model.add(BatchNormalization())\n",
        "model.add(Dropout(0.2)),\n",
        "model.add(Activation('relu'))\n",
        "model.add(Dense(256))\n",
        "model.add(Dropout(0.2)),\n",
        "model.add(Dense(64))\n",
        "model.add(Dense(CLASSES, activation=\"softmax\"))"
      ]
    },
    {
      "cell_type": "markdown",
      "metadata": {
        "id": "TH51B1X5Blxb"
      },
      "source": [
        "- Компилируем и выводим информацию о модели:"
      ]
    },
    {
      "cell_type": "code",
      "execution_count": null,
      "metadata": {
        "colab": {
          "base_uri": "https://localhost:8080/"
        },
        "id": "TIcx2s_xBlxb",
        "outputId": "285b95a1-408f-49ae-dca9-44ea398c5c13"
      },
      "outputs": [
        {
          "output_type": "stream",
          "name": "stdout",
          "text": [
            "Model: \"sequential_11\"\n",
            "_________________________________________________________________\n",
            " Layer (type)                Output Shape              Param #   \n",
            "=================================================================\n",
            " input (Conv2D)              (None, 16, 16, 64)        832       \n",
            "                                                                 \n",
            " batch_normalization_26 (Bat  (None, 16, 16, 64)       256       \n",
            " chNormalization)                                                \n",
            "                                                                 \n",
            " activation_39 (Activation)  (None, 16, 16, 64)        0         \n",
            "                                                                 \n",
            " max_pooling2d_27 (MaxPoolin  (None, 8, 8, 64)         0         \n",
            " g2D)                                                            \n",
            "                                                                 \n",
            " conv2d_20 (Conv2D)          (None, 8, 8, 32)          8224      \n",
            "                                                                 \n",
            " batch_normalization_27 (Bat  (None, 8, 8, 32)         128       \n",
            " chNormalization)                                                \n",
            "                                                                 \n",
            " activation_40 (Activation)  (None, 8, 8, 32)          0         \n",
            "                                                                 \n",
            " max_pooling2d_28 (MaxPoolin  (None, 4, 4, 32)         0         \n",
            " g2D)                                                            \n",
            "                                                                 \n",
            " flatten_8 (Flatten)         (None, 512)               0         \n",
            "                                                                 \n",
            " batch_normalization_28 (Bat  (None, 512)              2048      \n",
            " chNormalization)                                                \n",
            "                                                                 \n",
            " dropout_27 (Dropout)        (None, 512)               0         \n",
            "                                                                 \n",
            " activation_41 (Activation)  (None, 512)               0         \n",
            "                                                                 \n",
            " dense_20 (Dense)            (None, 256)               131328    \n",
            "                                                                 \n",
            " dropout_28 (Dropout)        (None, 256)               0         \n",
            "                                                                 \n",
            " dense_21 (Dense)            (None, 64)                16448     \n",
            "                                                                 \n",
            " dense_22 (Dense)            (None, 100)               6500      \n",
            "                                                                 \n",
            "=================================================================\n",
            "Total params: 165,764\n",
            "Trainable params: 164,548\n",
            "Non-trainable params: 1,216\n",
            "_________________________________________________________________\n"
          ]
        }
      ],
      "source": [
        "model.compile(optimizer=\"adam\", loss=\"categorical_crossentropy\", metrics=[\"accuracy\"])\n",
        "model.summary()"
      ]
    },
    {
      "cell_type": "markdown",
      "metadata": {
        "id": "a16k4vO1Blxb"
      },
      "source": [
        "- Обучаем модель в течении 20-ти эпох"
      ]
    },
    {
      "cell_type": "code",
      "execution_count": null,
      "metadata": {
        "colab": {
          "base_uri": "https://localhost:8080/"
        },
        "id": "6N_T0bPxNCGS",
        "outputId": "d7445602-d412-46d6-a102-ed5078f57168"
      },
      "outputs": [
        {
          "output_type": "stream",
          "name": "stdout",
          "text": [
            "Epoch 1/20\n",
            "391/391 [==============================] - 6s 8ms/step - loss: 3.8020 - accuracy: 0.1363 - val_loss: 3.3369 - val_accuracy: 0.1988\n",
            "Epoch 2/20\n",
            "391/391 [==============================] - 3s 7ms/step - loss: 3.1302 - accuracy: 0.2354 - val_loss: 2.9388 - val_accuracy: 0.2792\n",
            "Epoch 3/20\n",
            "391/391 [==============================] - 3s 8ms/step - loss: 2.9052 - accuracy: 0.2821 - val_loss: 3.1890 - val_accuracy: 0.2358\n",
            "Epoch 4/20\n",
            "391/391 [==============================] - 3s 8ms/step - loss: 2.7865 - accuracy: 0.3042 - val_loss: 2.7611 - val_accuracy: 0.3175\n",
            "Epoch 5/20\n",
            "391/391 [==============================] - 3s 7ms/step - loss: 2.6961 - accuracy: 0.3228 - val_loss: 2.7848 - val_accuracy: 0.3104\n",
            "Epoch 6/20\n",
            "391/391 [==============================] - 3s 7ms/step - loss: 2.6394 - accuracy: 0.3354 - val_loss: 2.6198 - val_accuracy: 0.3375\n",
            "Epoch 7/20\n",
            "391/391 [==============================] - 3s 7ms/step - loss: 2.5897 - accuracy: 0.3452 - val_loss: 2.5933 - val_accuracy: 0.3507\n",
            "Epoch 8/20\n",
            "391/391 [==============================] - 3s 8ms/step - loss: 2.5486 - accuracy: 0.3542 - val_loss: 2.6446 - val_accuracy: 0.3318\n",
            "Epoch 9/20\n",
            "391/391 [==============================] - 3s 8ms/step - loss: 2.5116 - accuracy: 0.3608 - val_loss: 2.6339 - val_accuracy: 0.3349\n",
            "Epoch 10/20\n",
            "391/391 [==============================] - 3s 7ms/step - loss: 2.4840 - accuracy: 0.3661 - val_loss: 2.5488 - val_accuracy: 0.3606\n",
            "Epoch 11/20\n",
            "391/391 [==============================] - 3s 7ms/step - loss: 2.4608 - accuracy: 0.3713 - val_loss: 2.4519 - val_accuracy: 0.3764\n",
            "Epoch 12/20\n",
            "391/391 [==============================] - 3s 7ms/step - loss: 2.4378 - accuracy: 0.3757 - val_loss: 2.4955 - val_accuracy: 0.3705\n",
            "Epoch 13/20\n",
            "391/391 [==============================] - 4s 9ms/step - loss: 2.4146 - accuracy: 0.3809 - val_loss: 2.5509 - val_accuracy: 0.3544\n",
            "Epoch 14/20\n",
            "391/391 [==============================] - 3s 7ms/step - loss: 2.4023 - accuracy: 0.3808 - val_loss: 2.5166 - val_accuracy: 0.3705\n",
            "Epoch 15/20\n",
            "391/391 [==============================] - 3s 7ms/step - loss: 2.3785 - accuracy: 0.3884 - val_loss: 2.5653 - val_accuracy: 0.3499\n",
            "Epoch 16/20\n",
            "391/391 [==============================] - 3s 7ms/step - loss: 2.3642 - accuracy: 0.3899 - val_loss: 2.5513 - val_accuracy: 0.3646\n",
            "Epoch 17/20\n",
            "391/391 [==============================] - 3s 8ms/step - loss: 2.3535 - accuracy: 0.3929 - val_loss: 2.4029 - val_accuracy: 0.3905\n",
            "Epoch 18/20\n",
            "391/391 [==============================] - 3s 8ms/step - loss: 2.3377 - accuracy: 0.3989 - val_loss: 2.5076 - val_accuracy: 0.3645\n",
            "Epoch 19/20\n",
            "391/391 [==============================] - 3s 7ms/step - loss: 2.3321 - accuracy: 0.3969 - val_loss: 2.3758 - val_accuracy: 0.3993\n",
            "Epoch 20/20\n",
            "391/391 [==============================] - 3s 7ms/step - loss: 2.3177 - accuracy: 0.4014 - val_loss: 2.4752 - val_accuracy: 0.3771\n"
          ]
        }
      ],
      "source": [
        "result = model.fit(\n",
        "    x=X_train,\n",
        "    y=y_train,\n",
        "    validation_data=(X_test, y_test),\n",
        "    batch_size=BATCH_SIZE,\n",
        "    epochs=20\n",
        ")"
      ]
    },
    {
      "cell_type": "code",
      "execution_count": null,
      "metadata": {
        "colab": {
          "base_uri": "https://localhost:8080/"
        },
        "id": "ATZ9ybeAQt_3",
        "outputId": "a4f90990-0ea8-4cfa-967b-65480e7f7c44"
      },
      "outputs": [
        {
          "output_type": "stream",
          "name": "stdout",
          "text": [
            "Model accuracy: 0.3771\n"
          ]
        }
      ],
      "source": [
        "scores = model.evaluate(X_test, y_test, verbose=0) \n",
        "print(f\"Model accuracy: {scores[1]:.4f}\")"
      ]
    },
    {
      "cell_type": "code",
      "execution_count": null,
      "metadata": {
        "colab": {
          "base_uri": "https://localhost:8080/",
          "height": 458
        },
        "id": "eHxCajCiU8Mg",
        "outputId": "8107e543-1faf-473a-d214-ab50eda3f333"
      },
      "outputs": [
        {
          "output_type": "display_data",
          "data": {
            "text/plain": [
              "<Figure size 720x504 with 1 Axes>"
            ],
            "image/png": "[encoded data removed]"
          },
          "metadata": {
            "needs_background": "light"
          }
        }
      ],
      "source": [
        "plt.figure(figsize=(10, 7))\n",
        "plt.plot(result.history['accuracy'])\n",
        "plt.plot(result.history['val_accuracy'])\n",
        "plt.title('Model Accuracy')\n",
        "plt.ylabel('accuracy')\n",
        "plt.xlabel('epoch')\n",
        "plt.legend(['train', 'val'], loc='upper left')\n",
        "plt.show()"
      ]
    },
    {
      "cell_type": "markdown",
      "metadata": {
        "id": "Kh2uBaOZLZIl"
      },
      "source": [
        "- Проверяем точность на 20 элементах из тестовой выборки:"
      ]
    },
    {
      "cell_type": "code",
      "execution_count": null,
      "metadata": {
        "id": "5jzdgODYLXQf",
        "colab": {
          "base_uri": "https://localhost:8080/"
        },
        "outputId": "9370b8e1-f064-4462-cf16-d8a8c9252a6a"
      },
      "outputs": [
        {
          "output_type": "stream",
          "name": "stdout",
          "text": [
            "1/1 [==============================] - 0s 43ms/step\n",
            "Prediction:  [30 80 15 51 71  7 63 74 23  0 12 55 89 69 40 43 92 97 70 92]\n",
            "Labels:      [49 33 72 51 71 92 15 14 23  0 71 75 81 69 40 43 92 97 70 53]\n"
          ]
        }
      ],
      "source": [
        "print(\"Prediction: \", np.argmax(model.predict(X_test[:20]), axis=1))\n",
        "print(\"Labels:     \", np.argmax(y_test[:20], axis=1))"
      ]
    },
    {
      "cell_type": "markdown",
      "metadata": {
        "id": "_Beph7qBBlxg"
      },
      "source": [
        "## Импортируем модель в TVM"
      ]
    },
    {
      "cell_type": "markdown",
      "metadata": {
        "id": "92H6N05uBlxg"
      },
      "source": [
        "- Подключаем необходимые модули:"
      ]
    },
    {
      "cell_type": "code",
      "execution_count": null,
      "metadata": {
        "id": "w_a0nFv1Blxg"
      },
      "outputs": [],
      "source": [
        "import tvm\n",
        "from tvm import relay\n",
        "from tvm.contrib import graph_executor"
      ]
    },
    {
      "cell_type": "markdown",
      "metadata": {
        "id": "nW-SggUIBlxh"
      },
      "source": [
        "- Загружаем модель из Keras в TVM:"
      ]
    },
    {
      "cell_type": "code",
      "execution_count": null,
      "metadata": {
        "colab": {
          "base_uri": "https://localhost:8080/"
        },
        "id": "kvW-7sZpBlxh",
        "outputId": "8987cffa-6b16-486b-def3-8dfefde7aef6"
      },
      "outputs": [
        {
          "output_type": "stream",
          "name": "stdout",
          "text": [
            "def @main(%input_input: Tensor[(1, 32, 32, 3), float32], %v_param_1: Tensor[(2, 2, 3, 64), float32], %v_param_2: Tensor[(64), float32], %v_param_3: Tensor[(64), float32], %v_param_4: Tensor[(64), float32], %v_param_5: Tensor[(64), float32], %v_param_6: Tensor[(64), float32], %v_param_7: Tensor[(2, 2, 64, 32), float32], %v_param_8: Tensor[(32), float32], %v_param_9: Tensor[(32), float32], %v_param_10: Tensor[(32), float32], %v_param_11: Tensor[(32), float32], %v_param_12: Tensor[(32), float32], %v_param_13: Tensor[(512), float32], %v_param_14: Tensor[(512), float32], %v_param_15: Tensor[(512), float32], %v_param_16: Tensor[(512), float32], %v_param_17: Tensor[(256, 512), float32], %v_param_18: Tensor[(256), float32], %v_param_19: Tensor[(64, 256), float32], %v_param_20: Tensor[(64), float32], %v_param_21: Tensor[(100, 64), float32], %v_param_22: Tensor[(100), float32]) {\n",
            "  %0 = nn.conv2d(%input_input, %v_param_1, strides=[2, 2], padding=[0i64, 0i64, 0i64, 0i64], channels=64, kernel_size=[2, 2], data_layout=\"NHWC\", kernel_layout=\"HWIO\");\n",
            "  %1 = nn.bias_add(%0, %v_param_2, axis=-1);\n",
            "  %2 = nn.batch_norm(%1, %v_param_3, %v_param_4, %v_param_5, %v_param_6, axis=3, epsilon=0.001f);\n",
            "  %3 = %2.0;\n",
            "  %4 = nn.relu(%3);\n",
            "  %5 = nn.max_pool2d(%4, pool_size=[2, 2], strides=[2, 2], padding=[0, 0, 0, 0], layout=\"NHWC\");\n",
            "  %6 = nn.conv2d(%5, %v_param_7, padding=[0i64, 0i64, 1i64, 1i64], channels=32, kernel_size=[2, 2], data_layout=\"NHWC\", kernel_layout=\"HWIO\");\n",
            "  %7 = nn.bias_add(%6, %v_param_8, axis=-1);\n",
            "  %8 = nn.batch_norm(%7, %v_param_9, %v_param_10, %v_param_11, %v_param_12, axis=3, epsilon=0.001f);\n",
            "  %9 = %8.0;\n",
            "  %10 = nn.relu(%9);\n",
            "  %11 = nn.max_pool2d(%10, pool_size=[2, 2], strides=[2, 2], padding=[0, 0, 0, 0], layout=\"NHWC\");\n",
            "  %12 = nn.batch_flatten(%11);\n",
            "  %13 = nn.batch_norm(%12, %v_param_13, %v_param_14, %v_param_15, %v_param_16, epsilon=0.001f);\n",
            "  %14 = %13.0;\n",
            "  %15 = nn.relu(%14);\n",
            "  %16 = nn.dense(%15, %v_param_17, units=256);\n",
            "  %17 = nn.bias_add(%16, %v_param_18);\n",
            "  %18 = nn.dense(%17, %v_param_19, units=64);\n",
            "  %19 = nn.bias_add(%18, %v_param_20);\n",
            "  %20 = nn.dense(%19, %v_param_21, units=100);\n",
            "  %21 = nn.bias_add(%20, %v_param_22);\n",
            "  nn.softmax(%21)\n",
            "}\n",
            "\n"
          ]
        }
      ],
      "source": [
        "input_shape = [1, 32, 32, 3] # [batch, height, width, channels]\n",
        "shape_dict = {\"input_input\": input_shape}\n",
        "mod = tvm.IRModule()\n",
        "mod, params = relay.frontend.from_keras(model, shape_dict, layout=\"NHWC\")\n",
        "print(mod)"
      ]
    },
    {
      "cell_type": "markdown",
      "metadata": {
        "id": "9ANBXparBlxi"
      },
      "source": [
        "- Указываем устройство, для которого модель должна быть скомпилирована и устройство, на котором модель будет запущена:"
      ]
    },
    {
      "cell_type": "code",
      "execution_count": null,
      "metadata": {
        "id": "3oSWUyICBlxj"
      },
      "outputs": [],
      "source": [
        "target = tvm.target.Target(\"llvm\")\n",
        "dev = tvm.cpu(0)"
      ]
    },
    {
      "cell_type": "markdown",
      "metadata": {
        "id": "7SpNqU8pBlxk"
      },
      "source": [
        "- Строим модель и создаём для неё `GraphExecutor`:"
      ]
    },
    {
      "cell_type": "code",
      "execution_count": null,
      "metadata": {
        "colab": {
          "base_uri": "https://localhost:8080/"
        },
        "id": "-rxcN13qBlxk",
        "outputId": "ff80670d-fc16-4bd0-dc1f-3cdbc5a79d6f"
      },
      "outputs": [
        {
          "output_type": "stream",
          "name": "stderr",
          "text": [
            "WARNING:strategy:conv2d NHWC layout is not optimized for x86 with autotvm.\n",
            "WARNING:strategy:conv2d NHWC layout is not optimized for x86 with autotvm.\n",
            "WARNING:autotvm:One or more operators have not been tuned. Please tune your model for better performance. Use DEBUG logging level to see more details.\n",
            "WARNING:strategy:conv2d NHWC layout is not optimized for x86 with autotvm.\n",
            "WARNING:strategy:conv2d NHWC layout is not optimized for x86 with autotvm.\n"
          ]
        }
      ],
      "source": [
        "with tvm.transform.PassContext(opt_level=3):\n",
        "    tvm_model = relay.build_module.create_executor(\"graph\", mod, dev, target, params).evaluate()"
      ]
    },
    {
      "cell_type": "markdown",
      "metadata": {
        "id": "ijH6N6cxLqmc"
      },
      "source": [
        "- Проверяем точность модели, запущенной с помощью TVM:"
      ]
    },
    {
      "cell_type": "code",
      "execution_count": null,
      "metadata": {
        "id": "B-70kz3dLpkO",
        "colab": {
          "base_uri": "https://localhost:8080/"
        },
        "outputId": "5ccdb885-1a94-4303-92b3-5662ba0bd332"
      },
      "outputs": [
        {
          "output_type": "stream",
          "name": "stdout",
          "text": [
            "Prediction:  [30 80 15 51 71  7 63 74 23  0 12 55 89 69 40 43 92 97 70 92]\n",
            "Labels:      [49 33 72 51 71 92 15 14 23  0 71 75 81 69 40 43 92 97 70 53]\n"
          ]
        }
      ],
      "source": [
        "out = []\n",
        "for data in X_test[:20]:\n",
        "    out.append(tvm_model(data.reshape(1, 32, 32, 3)).numpy()[0])\n",
        "\n",
        "print(\"Prediction: \", np.argmax(out, axis=1))\n",
        "print(\"Labels:     \", np.argmax(y_test[:20], axis=1))"
      ]
    },
    {
      "cell_type": "markdown",
      "metadata": {
        "id": "iIiZ9oeDBly_"
      },
      "source": [
        "# Настройка (тюнинг) модели в TVM"
      ]
    },
    {
      "cell_type": "markdown",
      "metadata": {
        "id": "cq4UoTKABl14"
      },
      "source": [
        "## Установка необходимых зависимостей\n",
        "\n",
        "- Установим модули Python, которые могут потребоваться во время настройки моделей в TVM."
      ]
    },
    {
      "cell_type": "code",
      "execution_count": null,
      "metadata": {
        "colab": {
          "base_uri": "https://localhost:8080/"
        },
        "id": "iPPjz9oiBl15",
        "outputId": "e27a81ce-9fdc-4fd3-ec96-58fcc07690e3"
      },
      "outputs": [
        {
          "output_type": "stream",
          "name": "stdout",
          "text": [
            "Looking in indexes: https://pypi.org/simple, https://us-python.pkg.dev/colab-wheels/public/simple/\n",
            "Requirement already satisfied: tornado in /usr/local/lib/python3.8/dist-packages (6.0.4)\n",
            "Requirement already satisfied: psutil in /usr/local/lib/python3.8/dist-packages (5.4.8)\n",
            "Requirement already satisfied: xgboost<1.6.0 in /usr/local/lib/python3.8/dist-packages (0.90)\n",
            "Requirement already satisfied: cloudpickle in /usr/local/lib/python3.8/dist-packages (2.2.1)\n",
            "Requirement already satisfied: scipy in /usr/local/lib/python3.8/dist-packages (from xgboost<1.6.0) (1.7.3)\n",
            "Requirement already satisfied: numpy in /usr/local/lib/python3.8/dist-packages (from xgboost<1.6.0) (1.21.6)\n"
          ]
        }
      ],
      "source": [
        "# If you are using Mac OSX, you should first install OpenMP library (libomp)\n",
        "!pip3 install --user tornado psutil 'xgboost<1.6.0' cloudpickle"
      ]
    },
    {
      "cell_type": "markdown",
      "metadata": {
        "id": "5gthnQYiBl15"
      },
      "source": [
        "## Некоторые общие функции и переменные\n",
        "\n",
        "- Объявим некоторые общие переменные, которые будут использоваться во всех режимах тюнинга:"
      ]
    },
    {
      "cell_type": "code",
      "execution_count": null,
      "metadata": {
        "colab": {
          "base_uri": "https://localhost:8080/"
        },
        "id": "mhTNC9S-Bl16",
        "outputId": "e2ed2853-3a9a-433c-c692-764dd1f0272f"
      },
      "outputs": [
        {
          "output_type": "stream",
          "name": "stdout",
          "text": [
            "Num threads:  1\n"
          ]
        }
      ],
      "source": [
        "model_name = \"my_model\"\n",
        "input_name = \"input_input\"\n",
        "target = tvm.target.Target(\"llvm\")\n",
        "\n",
        "import multiprocessing\n",
        "# Set number of threads used for tuning based on the number of\n",
        "# physical CPU cores on your machine.\n",
        "num_threads = multiprocessing.cpu_count()\n",
        "print(\"Num threads: \", int(num_threads/2))\n",
        "os.environ[\"TVM_NUM_THREADS\"] = str(int(num_threads/2))"
      ]
    },
    {
      "cell_type": "markdown",
      "metadata": {
        "id": "Oxa_duAxBl16"
      },
      "source": [
        "- Следующая функция будет использоваться для оценки времени работы модели:"
      ]
    },
    {
      "cell_type": "code",
      "execution_count": null,
      "metadata": {
        "id": "RuCpVn5NBl16"
      },
      "outputs": [],
      "source": [
        "def evaluate_performance(lib, data_shape, dtype=\"float32\"):\n",
        "    # upload parameters to device\n",
        "    dev = tvm.cpu()\n",
        "    data_tvm = tvm.nd.array((np.random.uniform(size=data_shape)).astype(dtype))\n",
        "    module = graph_executor.GraphModule(lib[\"default\"](dev))\n",
        "    module.set_input(input_name, data_tvm)\n",
        "\n",
        "    # evaluate\n",
        "    print(\"Evaluate inference time cost...\")\n",
        "    print(module.benchmark(dev, number=100, repeat=3))"
      ]
    },
    {
      "cell_type": "markdown",
      "metadata": {
        "id": "uEg_8A38Bl17"
      },
      "source": [
        "## AutoTVM\n",
        "\n",
        "- Подключаем необходимые модули:"
      ]
    },
    {
      "cell_type": "code",
      "execution_count": null,
      "metadata": {
        "id": "i6YDBDsLBl18"
      },
      "outputs": [],
      "source": [
        "from tvm import autotvm\n",
        "from tvm.autotvm.tuner import XGBTuner, GATuner, RandomTuner, GridSearchTuner"
      ]
    },
    {
      "cell_type": "code",
      "execution_count": null,
      "metadata": {
        "id": "rLygNAt9Bl19"
      },
      "outputs": [],
      "source": [
        "log_file = \"/content/tvm/%s.autotvm.log\" % model_name"
      ]
    },
    {
      "cell_type": "markdown",
      "metadata": {
        "id": "YdRjlWjBBl19"
      },
      "source": [
        "- Определим функцию, которая будет отвечать за извлечение задач из модели:"
      ]
    },
    {
      "cell_type": "code",
      "execution_count": null,
      "metadata": {
        "id": "SMc30McHBl1-"
      },
      "outputs": [],
      "source": [
        "# extract workloads from relay program\n",
        "def extract_tasks(mod, target, params):\n",
        "    print(\"Mod:\")\n",
        "    print(mod)\n",
        "    print(\"Extract tasks...\")\n",
        "    tasks = autotvm.task.extract_from_program(\n",
        "        mod, target=target, params=params\n",
        "    )\n",
        "    assert(len(tasks) > 0)\n",
        "    for idx, task in enumerate(tasks):\n",
        "        print(\"Task: %d,  workload: %s\" % (idx, task.workload))\n",
        "    return tasks"
      ]
    },
    {
      "cell_type": "markdown",
      "metadata": {
        "id": "jymAjoAABl1_"
      },
      "source": [
        "- Извлечем задачи:"
      ]
    },
    {
      "cell_type": "code",
      "execution_count": null,
      "metadata": {
        "colab": {
          "base_uri": "https://localhost:8080/"
        },
        "id": "rMi4rms4Bl1_",
        "outputId": "1dacff1f-c744-4874-e2b5-76642f96b4c4"
      },
      "outputs": [
        {
          "output_type": "stream",
          "name": "stdout",
          "text": [
            "Mod:\n",
            "def @main(%input_input: Tensor[(1, 32, 32, 3), float32], %v_param_1: Tensor[(2, 2, 3, 64), float32], %v_param_2: Tensor[(64), float32], %v_param_3: Tensor[(64), float32], %v_param_4: Tensor[(64), float32], %v_param_5: Tensor[(64), float32], %v_param_6: Tensor[(64), float32], %v_param_7: Tensor[(2, 2, 64, 32), float32], %v_param_8: Tensor[(32), float32], %v_param_9: Tensor[(32), float32], %v_param_10: Tensor[(32), float32], %v_param_11: Tensor[(32), float32], %v_param_12: Tensor[(32), float32], %v_param_13: Tensor[(512), float32], %v_param_14: Tensor[(512), float32], %v_param_15: Tensor[(512), float32], %v_param_16: Tensor[(512), float32], %v_param_17: Tensor[(256, 512), float32], %v_param_18: Tensor[(256), float32], %v_param_19: Tensor[(64, 256), float32], %v_param_20: Tensor[(64), float32], %v_param_21: Tensor[(100, 64), float32], %v_param_22: Tensor[(100), float32]) {\n",
            "  %0 = nn.conv2d(%input_input, %v_param_1, strides=[2, 2], padding=[0i64, 0i64, 0i64, 0i64], channels=64, kernel_size=[2, 2], data_layout=\"NHWC\", kernel_layout=\"HWIO\");\n",
            "  %1 = nn.bias_add(%0, %v_param_2, axis=-1);\n",
            "  %2 = nn.batch_norm(%1, %v_param_3, %v_param_4, %v_param_5, %v_param_6, axis=3, epsilon=0.001f);\n",
            "  %3 = %2.0;\n",
            "  %4 = nn.relu(%3);\n",
            "  %5 = nn.max_pool2d(%4, pool_size=[2, 2], strides=[2, 2], padding=[0, 0, 0, 0], layout=\"NHWC\");\n",
            "  %6 = nn.conv2d(%5, %v_param_7, padding=[0i64, 0i64, 1i64, 1i64], channels=32, kernel_size=[2, 2], data_layout=\"NHWC\", kernel_layout=\"HWIO\");\n",
            "  %7 = nn.bias_add(%6, %v_param_8, axis=-1);\n",
            "  %8 = nn.batch_norm(%7, %v_param_9, %v_param_10, %v_param_11, %v_param_12, axis=3, epsilon=0.001f);\n",
            "  %9 = %8.0;\n",
            "  %10 = nn.relu(%9);\n",
            "  %11 = nn.max_pool2d(%10, pool_size=[2, 2], strides=[2, 2], padding=[0, 0, 0, 0], layout=\"NHWC\");\n",
            "  %12 = nn.batch_flatten(%11);\n",
            "  %13 = nn.batch_norm(%12, %v_param_13, %v_param_14, %v_param_15, %v_param_16, epsilon=0.001f);\n",
            "  %14 = %13.0;\n",
            "  %15 = nn.relu(%14);\n",
            "  %16 = nn.dense(%15, %v_param_17, units=256);\n",
            "  %17 = nn.bias_add(%16, %v_param_18);\n",
            "  %18 = nn.dense(%17, %v_param_19, units=64);\n",
            "  %19 = nn.bias_add(%18, %v_param_20);\n",
            "  %20 = nn.dense(%19, %v_param_21, units=100);\n",
            "  %21 = nn.bias_add(%20, %v_param_22);\n",
            "  nn.softmax(%21)\n",
            "}\n",
            "\n",
            "Extract tasks...\n"
          ]
        },
        {
          "output_type": "stream",
          "name": "stderr",
          "text": [
            "WARNING:strategy:conv2d NHWC layout is not optimized for x86 with autotvm.\n",
            "WARNING:strategy:conv2d NHWC layout is not optimized for x86 with autotvm.\n"
          ]
        },
        {
          "output_type": "stream",
          "name": "stdout",
          "text": [
            "Task: 0,  workload: ('dense_nopack.x86', ('TENSOR', (1, 512), 'float32'), ('TENSOR', (256, 512), 'float32'), None, 'float32')\n",
            "Task: 1,  workload: ('dense_pack.x86', ('TENSOR', (1, 512), 'float32'), ('TENSOR', (256, 512), 'float32'), None, 'float32')\n",
            "Task: 2,  workload: ('dense_nopack.x86', ('TENSOR', (1, 256), 'float32'), ('TENSOR', (64, 256), 'float32'), None, 'float32')\n",
            "Task: 3,  workload: ('dense_pack.x86', ('TENSOR', (1, 256), 'float32'), ('TENSOR', (64, 256), 'float32'), None, 'float32')\n",
            "Task: 4,  workload: ('dense_nopack.x86', ('TENSOR', (1, 64), 'float32'), ('TENSOR', (100, 64), 'float32'), None, 'float32')\n",
            "Task: 5,  workload: ('dense_pack.x86', ('TENSOR', (1, 64), 'float32'), ('TENSOR', (100, 64), 'float32'), None, 'float32')\n"
          ]
        }
      ],
      "source": [
        "tasks = extract_tasks(mod, target, params)"
      ]
    },
    {
      "cell_type": "markdown",
      "metadata": {
        "id": "XeE8snZBBl2A"
      },
      "source": [
        "- Определим функцию, которая будет запускать настройку модели:"
      ]
    },
    {
      "cell_type": "code",
      "execution_count": null,
      "metadata": {
        "id": "BhiCzVbHBl2A"
      },
      "outputs": [],
      "source": [
        "def run_tuning(\n",
        "    tasks, measure_option, tuner=\"gridsearch\", early_stopping=None, log_filename=\"tuning.log\"\n",
        "):\n",
        "    for i, task in enumerate(tasks):\n",
        "        prefix = \"[Task %2d/%2d] \" % (i + 1, len(tasks))\n",
        "\n",
        "        # create tuner\n",
        "        if tuner == \"xgb\" or tuner == \"xgb-rank\":\n",
        "            tuner_obj = XGBTuner(task, loss_type=\"rank\")\n",
        "        elif tuner == \"ga\":\n",
        "            tuner_obj = GATuner(task, pop_size=50)\n",
        "        elif tuner == \"random\":\n",
        "            tuner_obj = RandomTuner(task)\n",
        "        elif tuner == \"gridsearch\":\n",
        "            tuner_obj = GridSearchTuner(task)\n",
        "        else:\n",
        "            raise ValueError(\"Invalid tuner: \" + tuner)\n",
        "\n",
        "        # do tuning\n",
        "        n_trial = len(task.config_space)\n",
        "        tuner_obj.tune(\n",
        "            n_trial=n_trial,\n",
        "            early_stopping=early_stopping,\n",
        "            measure_option=measure_option,\n",
        "            callbacks=[\n",
        "                autotvm.callback.progress_bar(n_trial, prefix=prefix),\n",
        "                autotvm.callback.log_to_file(log_filename),\n",
        "            ],\n",
        "        )"
      ]
    },
    {
      "cell_type": "markdown",
      "metadata": {
        "id": "JHU6wG7aBl2B"
      },
      "source": [
        "- Определим настройки замера:"
      ]
    },
    {
      "cell_type": "code",
      "execution_count": null,
      "metadata": {
        "id": "3La7wLQ5Bl2B"
      },
      "outputs": [],
      "source": [
        "measure_option = autotvm.measure_option(\n",
        "    builder=autotvm.LocalBuilder(),\n",
        "    runner=autotvm.LocalRunner(repeat=10, enable_cpu_cache_flush=True),\n",
        ")"
      ]
    },
    {
      "cell_type": "markdown",
      "metadata": {
        "id": "7C1AgKBfBl2C"
      },
      "source": [
        "- Запускаем тюнинг:"
      ]
    },
    {
      "cell_type": "code",
      "execution_count": null,
      "metadata": {
        "colab": {
          "base_uri": "https://localhost:8080/"
        },
        "id": "2uJRb7pbBl2D",
        "outputId": "e27522ea-090f-46df-ad2c-ef2697c21fd7"
      },
      "outputs": [
        {
          "output_type": "stream",
          "name": "stdout",
          "text": [
            "[Task  2/ 6]  Current/Best:    2.92/  12.85 GFLOPS | Progress: (62/450) | 43.20 s Done.\n",
            "[Task  2/ 6]  Current/Best:    1.55/  13.67 GFLOPS | Progress: (450/450) | 330.14 s Done.\n",
            "[Task  3/ 6]  Current/Best:    4.34/  11.33 GFLOPS | Progress: (63/63) | 40.92 s Done.\n",
            "[Task  4/ 6]  Current/Best:    3.14/  13.20 GFLOPS | Progress: (252/252) | 124.43 s Done.\n",
            "[Task  5/ 6]  Current/Best:    6.75/  11.29 GFLOPS | Progress: (63/63) | 30.25 s Done.\n",
            "[Task  6/ 6]  Current/Best:    2.74/  11.18 GFLOPS | Progress: (252/252) | 106.45 s Done.\n"
          ]
        }
      ],
      "source": [
        "# run tuning tasks\n",
        "run_tuning(tasks, measure_option, tuner=\"xgb\", log_filename=log_file)"
      ]
    },
    {
      "cell_type": "markdown",
      "metadata": {
        "id": "mXNn0-goBl2D"
      },
      "source": [
        "- Определим функцию для оценки эффективности настройки модели:"
      ]
    },
    {
      "cell_type": "code",
      "execution_count": null,
      "metadata": {
        "id": "P0ExPVAbBl2E"
      },
      "outputs": [],
      "source": [
        "def evaluate(module, data_shape, log_file, target=\"llvm\"):\n",
        "    # compile kernels in default mode\n",
        "    print(\"Evaluation of the network compiled in 'default' mode without auto tune:\")\n",
        "    with tvm.transform.PassContext(opt_level=3):\n",
        "        print(\"Compile...\")\n",
        "        lib = relay.build(module, target=target, params=params)\n",
        "        evaluate_performance(lib, data_shape)\n",
        "\n",
        "    # compile kernels in kernel tuned only mode\n",
        "    print(\"\\nEvaluation of the network been tuned on kernel level:\")\n",
        "    with autotvm.apply_history_best(log_file):\n",
        "        print(\"Compile...\")\n",
        "        with tvm.transform.PassContext(opt_level=3):\n",
        "            lib = relay.build(module, target=target, params=params)\n",
        "        evaluate_performance(lib, data_shape)"
      ]
    },
    {
      "cell_type": "markdown",
      "metadata": {
        "id": "BUTD57W7Bl2F"
      },
      "source": [
        "- Запустим функцию и оценим полученную производительность:"
      ]
    },
    {
      "cell_type": "code",
      "execution_count": null,
      "metadata": {
        "colab": {
          "base_uri": "https://localhost:8080/"
        },
        "id": "wjmajuKGBl2F",
        "outputId": "55615f75-92c4-41c9-ab7d-e5fc4a140d2d"
      },
      "outputs": [
        {
          "output_type": "stream",
          "name": "stdout",
          "text": [
            "Evaluation of the network compiled in 'default' mode without auto tune:\n",
            "Compile...\n"
          ]
        },
        {
          "output_type": "stream",
          "name": "stderr",
          "text": [
            "WARNING:strategy:conv2d NHWC layout is not optimized for x86 with autotvm.\n",
            "WARNING:strategy:conv2d NHWC layout is not optimized for x86 with autotvm.\n",
            "WARNING:strategy:conv2d NHWC layout is not optimized for x86 with autotvm.\n",
            "WARNING:strategy:conv2d NHWC layout is not optimized for x86 with autotvm.\n"
          ]
        },
        {
          "output_type": "stream",
          "name": "stdout",
          "text": [
            "Evaluate inference time cost...\n",
            "Execution time summary:\n",
            " mean (ms)   median (ms)    max (ms)     min (ms)     std (ms)  \n",
            "   0.7912       0.7768       0.8229       0.7738       0.0225   \n",
            "               \n",
            "\n",
            "Evaluation of the network been tuned on kernel level:\n",
            "Compile...\n"
          ]
        },
        {
          "output_type": "stream",
          "name": "stderr",
          "text": [
            "WARNING:strategy:conv2d NHWC layout is not optimized for x86 with autotvm.\n",
            "WARNING:strategy:conv2d NHWC layout is not optimized for x86 with autotvm.\n",
            "WARNING:strategy:conv2d NHWC layout is not optimized for x86 with autotvm.\n",
            "WARNING:strategy:conv2d NHWC layout is not optimized for x86 with autotvm.\n"
          ]
        },
        {
          "output_type": "stream",
          "name": "stdout",
          "text": [
            "Evaluate inference time cost...\n",
            "Execution time summary:\n",
            " mean (ms)   median (ms)    max (ms)     min (ms)     std (ms)  \n",
            "   0.6742       0.6682       0.7035       0.6510       0.0218   \n",
            "               \n"
          ]
        }
      ],
      "source": [
        "evaluate(mod, input_shape, log_file, target)"
      ]
    },
    {
      "cell_type": "markdown",
      "metadata": {
        "id": "Yukz9j-iBl2G"
      },
      "source": [
        "Как можно видеть, время запуска изменилось не намного. Это связано с тем, что основное время исполнения занимают свёрточные слои и настроенные полносвязанные слои не сильно влияют на ситуацию."
      ]
    },
    {
      "cell_type": "markdown",
      "metadata": {
        "id": "ki2dGt1zBl2G"
      },
      "source": [
        "## Auto-Scheduler\n",
        "\n",
        "- Подключаем необходимые модули:"
      ]
    },
    {
      "cell_type": "code",
      "execution_count": null,
      "metadata": {
        "id": "ubKWwTyGBl2G"
      },
      "outputs": [],
      "source": [
        "from tvm import auto_scheduler"
      ]
    },
    {
      "cell_type": "markdown",
      "metadata": {
        "id": "8hswAipwBl2H"
      },
      "source": [
        "- Устанавливаем значение переменной `log_file`:"
      ]
    },
    {
      "cell_type": "code",
      "execution_count": null,
      "metadata": {
        "id": "MaLL25UmBl2H"
      },
      "outputs": [],
      "source": [
        "log_file = \"/content/tvm/%s.auto-scheduler.log\" % model_name"
      ]
    },
    {
      "cell_type": "markdown",
      "metadata": {
        "id": "YkU4b2nfBl2H"
      },
      "source": [
        "- Определим функцию, которая будет отвечать за извлечение задач из модели:"
      ]
    },
    {
      "cell_type": "code",
      "execution_count": null,
      "metadata": {
        "id": "eC-I7TNIBl2I"
      },
      "outputs": [],
      "source": [
        "# extract workloads from relay program\n",
        "def extract_tasks(mod, target, params):\n",
        "    print(\"Mod:\")\n",
        "    print(mod)\n",
        "    print(\"Extract tasks...\")\n",
        "    tasks, task_weights = auto_scheduler.extract_tasks(mod, params, target)\n",
        "    assert(len(tasks) > 0)\n",
        "\n",
        "    for idx, task in enumerate(tasks):\n",
        "        print(\"Task: %d, desc: %s\" % (idx, task.desc))\n",
        "    return tasks, task_weights"
      ]
    },
    {
      "cell_type": "markdown",
      "metadata": {
        "id": "RTslsChOBl2I"
      },
      "source": [
        "- Извлечем задачи:"
      ]
    },
    {
      "cell_type": "code",
      "execution_count": null,
      "metadata": {
        "colab": {
          "base_uri": "https://localhost:8080/"
        },
        "id": "4RnTK7mHBl2I",
        "outputId": "5f312be4-cac1-450e-dcdc-e61f85f894c4"
      },
      "outputs": [
        {
          "output_type": "stream",
          "name": "stdout",
          "text": [
            "Mod:\n",
            "def @main(%input_input: Tensor[(1, 32, 32, 3), float32]) {\n",
            "  %0 = nn.conv2d(%input_input, meta[relay.Constant][0], strides=[2, 2], padding=[0i64, 0i64, 0i64, 0i64], channels=64, kernel_size=[2, 2], data_layout=\"NHWC\", kernel_layout=\"HWIO\");\n",
            "  %1 = nn.bias_add(%0, meta[relay.Constant][1], axis=-1);\n",
            "  %2 = nn.batch_norm(%1, meta[relay.Constant][2], meta[relay.Constant][3], meta[relay.Constant][4], meta[relay.Constant][5], axis=3, epsilon=0.001f);\n",
            "  %3 = %2.0;\n",
            "  %4 = nn.relu(%3);\n",
            "  %5 = nn.max_pool2d(%4, pool_size=[2, 2], strides=[2, 2], padding=[0, 0, 0, 0], layout=\"NHWC\");\n",
            "  %6 = nn.conv2d(%5, meta[relay.Constant][6], padding=[0i64, 0i64, 1i64, 1i64], channels=32, kernel_size=[2, 2], data_layout=\"NHWC\", kernel_layout=\"HWIO\");\n",
            "  %7 = nn.bias_add(%6, meta[relay.Constant][7], axis=-1);\n",
            "  %8 = nn.batch_norm(%7, meta[relay.Constant][8], meta[relay.Constant][9], meta[relay.Constant][10], meta[relay.Constant][11], axis=3, epsilon=0.001f);\n",
            "  %9 = %8.0;\n",
            "  %10 = nn.relu(%9);\n",
            "  %11 = nn.max_pool2d(%10, pool_size=[2, 2], strides=[2, 2], padding=[0, 0, 0, 0], layout=\"NHWC\");\n",
            "  %12 = nn.batch_flatten(%11);\n",
            "  %13 = nn.batch_norm(%12, meta[relay.Constant][12], meta[relay.Constant][13], meta[relay.Constant][14], meta[relay.Constant][15], epsilon=0.001f);\n",
            "  %14 = %13.0;\n",
            "  %15 = nn.relu(%14);\n",
            "  %16 = nn.dense(%15, meta[relay.Constant][16], units=256);\n",
            "  %17 = nn.bias_add(%16, meta[relay.Constant][17]);\n",
            "  %18 = nn.dense(%17, meta[relay.Constant][18], units=64);\n",
            "  %19 = nn.bias_add(%18, meta[relay.Constant][19]);\n",
            "  %20 = nn.dense(%19, meta[relay.Constant][20], units=100);\n",
            "  %21 = nn.bias_add(%20, meta[relay.Constant][21]);\n",
            "  nn.softmax(%21)\n",
            "}\n",
            "\n",
            "\n",
            "Extract tasks...\n",
            "Task: 0, desc: vm_mod_fused_nn_conv2d_add_multiply_add_nn_relu_1\n",
            "Task: 1, desc: vm_mod_fused_nn_max_pool2d\n",
            "Task: 2, desc: vm_mod_fused_nn_max_pool2d_1\n",
            "Task: 3, desc: vm_mod_fused_nn_softmax\n",
            "Task: 4, desc: vm_mod_fused_nn_dense_add_2\n",
            "Task: 5, desc: vm_mod_fused_nn_conv2d_add_multiply_add_nn_relu\n",
            "Task: 6, desc: vm_mod_fused_nn_dense_add_1\n",
            "Task: 7, desc: vm_mod_fused_nn_dense_add\n"
          ]
        }
      ],
      "source": [
        "tasks, task_weights = extract_tasks(mod, target, params)"
      ]
    },
    {
      "cell_type": "markdown",
      "metadata": {
        "id": "jmQRMmroBl2J"
      },
      "source": [
        "- Определим функцию, которая будет запускать настройку модели:"
      ]
    },
    {
      "cell_type": "code",
      "execution_count": null,
      "metadata": {
        "id": "R3d95NbWBl2J"
      },
      "outputs": [],
      "source": [
        "def run_tuning(tasks, task_weights, log_file, n_trials):\n",
        "    print(\"Begin tuning...\")\n",
        "    tuner = auto_scheduler.TaskScheduler(tasks, task_weights)\n",
        "    tune_option = auto_scheduler.TuningOptions(\n",
        "        num_measure_trials=n_trials,  # change this to 20000 to achieve the best performance\n",
        "        runner=auto_scheduler.LocalRunner(repeat=10, enable_cpu_cache_flush=True),\n",
        "        measure_callbacks=[auto_scheduler.RecordToFile(log_file)],\n",
        "    )\n",
        "\n",
        "    tuner.tune(tune_option)"
      ]
    },
    {
      "cell_type": "markdown",
      "metadata": {
        "id": "fg8JzXmoBl2K"
      },
      "source": [
        "- Запускаем тюнинг:"
      ]
    },
    {
      "cell_type": "code",
      "execution_count": null,
      "metadata": {
        "colab": {
          "base_uri": "https://localhost:8080/"
        },
        "id": "mN7mjNRvBl2K",
        "outputId": "abf84fbc-3162-4db1-994f-f5fb897cfca0"
      },
      "outputs": [
        {
          "output_type": "stream",
          "name": "stdout",
          "text": [
            "Begin tuning...\n",
            "|  ID  |                       Task Description                        | Latency (ms) | Speed (GFLOPS) | Trials |\n",
            "-----------------------------------------------------------------------------------------------------------------\n",
            "|    0 |             vm_mod_fused_nn_conv2d_add_multiply_add_nn_relu_1 |            - |              - |      0 |\n",
            "|    1 |                                    vm_mod_fused_nn_max_pool2d |            - |              - |      0 |\n",
            "|    2 |                                  vm_mod_fused_nn_max_pool2d_1 |            - |              - |      0 |\n",
            "|    3 |                                       vm_mod_fused_nn_softmax |            - |              - |      0 |\n",
            "|    4 |                                   vm_mod_fused_nn_dense_add_2 |            - |              - |      0 |\n",
            "|    5 |               vm_mod_fused_nn_conv2d_add_multiply_add_nn_relu |            - |              - |      0 |\n",
            "|    6 |                                   vm_mod_fused_nn_dense_add_1 |            - |              - |      0 |\n",
            "|    7 |                                     vm_mod_fused_nn_dense_add |            - |              - |      0 |\n",
            "-----------------------------------------------------------------------------------------------------------------\n",
            "Estimated total latency: - ms\tTrials: 0\tUsed time : 0 s\tNext ID: 0\t\n",
            "\n",
            "\n",
            "\n",
            "\n",
            "\n",
            "\n",
            "\n",
            "\n",
            "\n",
            "\n",
            "\n",
            "\n",
            "\n",
            "\n",
            "\n",
            "\n",
            "|  ID  |                       Task Description                        | Latency (ms) | Speed (GFLOPS) | Trials |\n",
            "-----------------------------------------------------------------------------------------------------------------\n",
            "|    0 |             vm_mod_fused_nn_conv2d_add_multiply_add_nn_relu_1 |        0.051 |          20.67 |     64 |\n",
            "|    1 |                                    vm_mod_fused_nn_max_pool2d |            - |              - |      0 |\n",
            "|    2 |                                  vm_mod_fused_nn_max_pool2d_1 |            - |              - |      0 |\n",
            "|    3 |                                       vm_mod_fused_nn_softmax |            - |              - |      0 |\n",
            "|    4 |                                   vm_mod_fused_nn_dense_add_2 |            - |              - |      0 |\n",
            "|    5 |               vm_mod_fused_nn_conv2d_add_multiply_add_nn_relu |            - |              - |      0 |\n",
            "|    6 |                                   vm_mod_fused_nn_dense_add_1 |            - |              - |      0 |\n",
            "|    7 |                                     vm_mod_fused_nn_dense_add |            - |              - |      0 |\n",
            "-----------------------------------------------------------------------------------------------------------------\n",
            "Estimated total latency: - ms\tTrials: 64\tUsed time : 212 s\tNext ID: 1\t\n",
            "\n",
            "\n",
            "\n",
            "\n",
            "\n",
            "\n",
            "\n",
            "\n",
            "\n",
            "\n",
            "\n",
            "\n",
            "\n",
            "\n",
            "\n",
            "\n",
            "|  ID  |                       Task Description                        | Latency (ms) | Speed (GFLOPS) | Trials |\n",
            "-----------------------------------------------------------------------------------------------------------------\n",
            "|    0 |             vm_mod_fused_nn_conv2d_add_multiply_add_nn_relu_1 |        0.051 |          20.67 |     64 |\n",
            "|    1 |                                    vm_mod_fused_nn_max_pool2d |        0.002 |           9.68 |     64 |\n",
            "|    2 |                                  vm_mod_fused_nn_max_pool2d_1 |            - |              - |      0 |\n",
            "|    3 |                                       vm_mod_fused_nn_softmax |            - |              - |      0 |\n",
            "|    4 |                                   vm_mod_fused_nn_dense_add_2 |            - |              - |      0 |\n",
            "|    5 |               vm_mod_fused_nn_conv2d_add_multiply_add_nn_relu |            - |              - |      0 |\n",
            "|    6 |                                   vm_mod_fused_nn_dense_add_1 |            - |              - |      0 |\n",
            "|    7 |                                     vm_mod_fused_nn_dense_add |            - |              - |      0 |\n",
            "-----------------------------------------------------------------------------------------------------------------\n",
            "Estimated total latency: - ms\tTrials: 128\tUsed time : 303 s\tNext ID: 2\t\n",
            "\n",
            "\n",
            "\n",
            "\n",
            "\n",
            "\n",
            "\n",
            "\n",
            "\n",
            "\n",
            "\n",
            "\n",
            "\n",
            "\n",
            "\n",
            "\n",
            "|  ID  |                       Task Description                        | Latency (ms) | Speed (GFLOPS) | Trials |\n",
            "-----------------------------------------------------------------------------------------------------------------\n",
            "|    0 |             vm_mod_fused_nn_conv2d_add_multiply_add_nn_relu_1 |        0.051 |          20.67 |     64 |\n",
            "|    1 |                                    vm_mod_fused_nn_max_pool2d |        0.002 |           9.68 |     64 |\n",
            "|    2 |                                  vm_mod_fused_nn_max_pool2d_1 |        0.000 |           8.35 |     64 |\n",
            "|    3 |                                       vm_mod_fused_nn_softmax |            - |              - |      0 |\n",
            "|    4 |                                   vm_mod_fused_nn_dense_add_2 |            - |              - |      0 |\n",
            "|    5 |               vm_mod_fused_nn_conv2d_add_multiply_add_nn_relu |            - |              - |      0 |\n",
            "|    6 |                                   vm_mod_fused_nn_dense_add_1 |            - |              - |      0 |\n",
            "|    7 |                                     vm_mod_fused_nn_dense_add |            - |              - |      0 |\n",
            "-----------------------------------------------------------------------------------------------------------------\n",
            "Estimated total latency: - ms\tTrials: 192\tUsed time : 380 s\tNext ID: 3\t\n",
            "\n",
            "\n",
            "\n",
            "\n",
            "\n",
            "\n",
            "\n",
            "\n",
            "\n",
            "\n",
            "\n",
            "\n",
            "\n",
            "\n",
            "\n",
            "\n",
            "|  ID  |                       Task Description                        | Latency (ms) | Speed (GFLOPS) | Trials |\n",
            "-----------------------------------------------------------------------------------------------------------------\n",
            "|    0 |             vm_mod_fused_nn_conv2d_add_multiply_add_nn_relu_1 |        0.051 |          20.67 |     64 |\n",
            "|    1 |                                    vm_mod_fused_nn_max_pool2d |        0.002 |           9.68 |     64 |\n",
            "|    2 |                                  vm_mod_fused_nn_max_pool2d_1 |        0.000 |           8.35 |     64 |\n",
            "|    3 |                                       vm_mod_fused_nn_softmax |        0.001 |           0.50 |     64 |\n",
            "|    4 |                                   vm_mod_fused_nn_dense_add_2 |            - |              - |      0 |\n",
            "|    5 |               vm_mod_fused_nn_conv2d_add_multiply_add_nn_relu |            - |              - |      0 |\n",
            "|    6 |                                   vm_mod_fused_nn_dense_add_1 |            - |              - |      0 |\n",
            "|    7 |                                     vm_mod_fused_nn_dense_add |            - |              - |      0 |\n",
            "-----------------------------------------------------------------------------------------------------------------\n",
            "Estimated total latency: - ms\tTrials: 256\tUsed time : 467 s\tNext ID: 4\t\n",
            "\n",
            "\n",
            "\n",
            "\n",
            "\n",
            "\n",
            "\n",
            "\n",
            "\n",
            "\n",
            "\n",
            "\n",
            "\n",
            "\n",
            "\n",
            "\n",
            "|  ID  |                       Task Description                        | Latency (ms) | Speed (GFLOPS) | Trials |\n",
            "-----------------------------------------------------------------------------------------------------------------\n",
            "|    0 |             vm_mod_fused_nn_conv2d_add_multiply_add_nn_relu_1 |        0.051 |          20.67 |     64 |\n",
            "|    1 |                                    vm_mod_fused_nn_max_pool2d |        0.002 |           9.68 |     64 |\n",
            "|    2 |                                  vm_mod_fused_nn_max_pool2d_1 |        0.000 |           8.35 |     64 |\n",
            "|    3 |                                       vm_mod_fused_nn_softmax |        0.001 |           0.50 |     64 |\n",
            "|    4 |                                   vm_mod_fused_nn_dense_add_2 |        0.003 |           4.74 |     64 |\n",
            "|    5 |               vm_mod_fused_nn_conv2d_add_multiply_add_nn_relu |            - |              - |      0 |\n",
            "|    6 |                                   vm_mod_fused_nn_dense_add_1 |            - |              - |      0 |\n",
            "|    7 |                                     vm_mod_fused_nn_dense_add |            - |              - |      0 |\n",
            "-----------------------------------------------------------------------------------------------------------------\n",
            "Estimated total latency: - ms\tTrials: 320\tUsed time : 542 s\tNext ID: 5\t\n",
            "\n",
            "\n",
            "\n",
            "\n",
            "\n",
            "\n",
            "\n",
            "\n",
            "\n",
            "\n",
            "\n",
            "\n",
            "\n",
            "\n",
            "\n",
            "\n",
            "|  ID  |                       Task Description                        | Latency (ms) | Speed (GFLOPS) | Trials |\n",
            "-----------------------------------------------------------------------------------------------------------------\n",
            "|    0 |             vm_mod_fused_nn_conv2d_add_multiply_add_nn_relu_1 |        0.051 |          20.67 |     64 |\n",
            "|    1 |                                    vm_mod_fused_nn_max_pool2d |        0.002 |           9.68 |     64 |\n",
            "|    2 |                                  vm_mod_fused_nn_max_pool2d_1 |        0.000 |           8.35 |     64 |\n",
            "|    3 |                                       vm_mod_fused_nn_softmax |        0.001 |           0.50 |     64 |\n",
            "|    4 |                                   vm_mod_fused_nn_dense_add_2 |        0.003 |           4.74 |     64 |\n",
            "|    5 |               vm_mod_fused_nn_conv2d_add_multiply_add_nn_relu |        0.027 |          16.92 |     64 |\n",
            "|    6 |                                   vm_mod_fused_nn_dense_add_1 |            - |              - |      0 |\n",
            "|    7 |                                     vm_mod_fused_nn_dense_add |            - |              - |      0 |\n",
            "-----------------------------------------------------------------------------------------------------------------\n",
            "Estimated total latency: - ms\tTrials: 384\tUsed time : 692 s\tNext ID: 6\t\n",
            "\n",
            "\n",
            "\n",
            "\n",
            "\n",
            "\n",
            "\n",
            "\n",
            "\n",
            "\n",
            "\n",
            "\n",
            "\n",
            "\n",
            "\n",
            "\n",
            "|  ID  |                       Task Description                        | Latency (ms) | Speed (GFLOPS) | Trials |\n",
            "-----------------------------------------------------------------------------------------------------------------\n",
            "|    0 |             vm_mod_fused_nn_conv2d_add_multiply_add_nn_relu_1 |        0.051 |          20.67 |     64 |\n",
            "|    1 |                                    vm_mod_fused_nn_max_pool2d |        0.002 |           9.68 |     64 |\n",
            "|    2 |                                  vm_mod_fused_nn_max_pool2d_1 |        0.000 |           8.35 |     64 |\n",
            "|    3 |                                       vm_mod_fused_nn_softmax |        0.001 |           0.50 |     64 |\n",
            "|    4 |                                   vm_mod_fused_nn_dense_add_2 |        0.003 |           4.74 |     64 |\n",
            "|    5 |               vm_mod_fused_nn_conv2d_add_multiply_add_nn_relu |        0.027 |          16.92 |     64 |\n",
            "|    6 |                                   vm_mod_fused_nn_dense_add_1 |        0.006 |           5.89 |     64 |\n",
            "|    7 |                                     vm_mod_fused_nn_dense_add |            - |              - |      0 |\n",
            "-----------------------------------------------------------------------------------------------------------------\n",
            "Estimated total latency: - ms\tTrials: 448\tUsed time : 768 s\tNext ID: 7\t\n",
            "\n",
            "\n",
            "\n",
            "\n",
            "\n",
            "\n",
            "\n",
            "\n",
            "\n",
            "\n",
            "\n",
            "\n",
            "\n",
            "\n",
            "\n",
            "\n"
          ]
        }
      ],
      "source": [
        "run_tuning(tasks, task_weights, log_file,  512)"
      ]
    },
    {
      "cell_type": "markdown",
      "metadata": {
        "id": "za-ztPBVBl2L"
      },
      "source": [
        "- Модифицируем функцию для оценки эффективности настройки модели:"
      ]
    },
    {
      "cell_type": "code",
      "execution_count": null,
      "metadata": {
        "id": "yp_kXFkgBl2L"
      },
      "outputs": [],
      "source": [
        "def evaluate(module, data_shape, log_file, target=\"llvm\"):\n",
        "    # compile kernels in default mode\n",
        "    print(\"Evaluation of the network compiled in 'default' mode without auto tune:\")\n",
        "    with tvm.transform.PassContext(opt_level=3):\n",
        "        print(\"Compile...\")\n",
        "        lib = relay.build(module, target=target, params=params)\n",
        "        evaluate_performance(lib, data_shape)\n",
        "\n",
        "    # compile kernels in kernel tuned only mode\n",
        "    print(\"\\nEvaluation of the network been tuned on kernel level:\")\n",
        "    with auto_scheduler.ApplyHistoryBest(log_file):\n",
        "        print(\"Compile...\")\n",
        "        with tvm.transform.PassContext(opt_level=3, config={\"relay.backend.use_auto_scheduler\": True}):\n",
        "            lib = relay.build(module, target=target, params=params)\n",
        "        evaluate_performance(lib, data_shape)"
      ]
    },
    {
      "cell_type": "markdown",
      "metadata": {
        "id": "7-Zh7-mgBl2L"
      },
      "source": [
        "- Запустим функцию и оценим полученную производительность:"
      ]
    },
    {
      "cell_type": "code",
      "execution_count": null,
      "metadata": {
        "colab": {
          "base_uri": "https://localhost:8080/"
        },
        "id": "E5zV3eviBl2M",
        "outputId": "c43d65f6-360f-4999-9421-ae86ff789324"
      },
      "outputs": [
        {
          "output_type": "stream",
          "name": "stdout",
          "text": [
            "Evaluation of the network compiled in 'default' mode without auto tune:\n",
            "Compile...\n"
          ]
        },
        {
          "output_type": "stream",
          "name": "stderr",
          "text": [
            "WARNING:strategy:conv2d NHWC layout is not optimized for x86 with autotvm.\n",
            "WARNING:strategy:conv2d NHWC layout is not optimized for x86 with autotvm.\n",
            "WARNING:strategy:conv2d NHWC layout is not optimized for x86 with autotvm.\n",
            "WARNING:strategy:conv2d NHWC layout is not optimized for x86 with autotvm.\n"
          ]
        },
        {
          "output_type": "stream",
          "name": "stdout",
          "text": [
            "Evaluate inference time cost...\n",
            "Execution time summary:\n",
            " mean (ms)   median (ms)    max (ms)     min (ms)     std (ms)  \n",
            "   0.6951       0.7028       0.7035       0.6791       0.0113   \n",
            "               \n",
            "\n",
            "Evaluation of the network been tuned on kernel level:\n",
            "Compile...\n",
            "Evaluate inference time cost...\n",
            "Execution time summary:\n",
            " mean (ms)   median (ms)    max (ms)     min (ms)     std (ms)  \n",
            "   0.0968       0.0957       0.1001       0.0945       0.0024   \n",
            "               \n"
          ]
        }
      ],
      "source": [
        "evaluate(mod, input_shape, log_file, target)"
      ]
    },
    {
      "cell_type": "markdown",
      "metadata": {
        "id": "K7U7yaXUBl2M"
      },
      "source": [
        "Как можно видеть, Auto-Scheduler дал уже довольно значительный прирост производительности в сравнении с расписанием \"по умолчанию\". Такое ускорение в сравнении с AutoTVM объясняется тем, что для Auto-Scheduler не нужно расписание, написанное полльзователем, и он сам на основе различных оптимизаций автоматически ускорил свёрточные слои в нашей модели."
      ]
    },
    {
      "cell_type": "markdown",
      "metadata": {
        "id": "oDTN_h9SBl2M"
      },
      "source": [
        "## Meta-Scheduler (TensorIR)"
      ]
    },
    {
      "cell_type": "markdown",
      "metadata": {
        "id": "NYinN52aBl2N"
      },
      "source": [
        "- Подключаем необходимые модули:"
      ]
    },
    {
      "cell_type": "code",
      "execution_count": null,
      "metadata": {
        "id": "nTnLWAwnBl2N"
      },
      "outputs": [],
      "source": [
        "from tvm import meta_schedule as ms"
      ]
    },
    {
      "cell_type": "markdown",
      "metadata": {
        "id": "uEPhBg4aBl2N"
      },
      "source": [
        "- Объявляем некоторые Meta-Schedule специфичные переменные:"
      ]
    },
    {
      "cell_type": "code",
      "execution_count": null,
      "metadata": {
        "id": "rgeBo127Bl2O"
      },
      "outputs": [],
      "source": [
        "strategy_name = \"evolutionary\"\n",
        "work_dir = \"/content/tvm/{}_meta-scheduler_{}\".format(model_name, strategy_name)\n",
        "target = tvm.target.Target(\"llvm -mcpu=core-avx2 -num-cores {}\".format(int(num_threads/2)))"
      ]
    },
    {
      "cell_type": "markdown",
      "metadata": {
        "id": "iUSFOPonBl2O"
      },
      "source": [
        "- Определим функцию, которая будет отвечать за извлечение задач из модели:"
      ]
    },
    {
      "cell_type": "code",
      "execution_count": null,
      "metadata": {
        "id": "i0h0Idd5Bl2O"
      },
      "outputs": [],
      "source": [
        "# extract workloads from relay program\n",
        "def extract_tasks(mod, target, params, strategy):\n",
        "    print(\"Mod:\")\n",
        "    print(mod)\n",
        "    print(\"Extract tasks...\")\n",
        "    extracted_tasks = ms.relay_integration.extract_tasks(\n",
        "        mod, target, params\n",
        "    )\n",
        "    assert(len(extracted_tasks) > 0)\n",
        "    \n",
        "    tasks, task_weights = ms.relay_integration.extracted_tasks_to_tune_contexts(\n",
        "        extracted_tasks, work_dir, strategy=strategy\n",
        "    )\n",
        "\n",
        "    for idx, task in enumerate(tasks):\n",
        "        print(\"Task: %d, desc: %s\" % (idx, task.task_name))\n",
        "\n",
        "    return tasks, task_weights"
      ]
    },
    {
      "cell_type": "markdown",
      "metadata": {
        "id": "0rSrjD7aBl2P"
      },
      "source": [
        "- Извлечем задачи:"
      ]
    },
    {
      "cell_type": "code",
      "execution_count": null,
      "metadata": {
        "colab": {
          "base_uri": "https://localhost:8080/"
        },
        "id": "2jY5sP06Bl2P",
        "outputId": "8806dd37-db42-41c8-9bcd-52aa8c132296"
      },
      "outputs": [
        {
          "output_type": "stream",
          "name": "stdout",
          "text": [
            "Mod:\n",
            "def @main(%input_input: Tensor[(1, 32, 32, 3), float32]) {\n",
            "  %0 = nn.conv2d(%input_input, meta[relay.Constant][0], strides=[2, 2], padding=[0i64, 0i64, 0i64, 0i64], channels=64, kernel_size=[2, 2], data_layout=\"NHWC\", kernel_layout=\"HWIO\");\n",
            "  %1 = nn.bias_add(%0, meta[relay.Constant][1], axis=-1);\n",
            "  %2 = nn.batch_norm(%1, meta[relay.Constant][2], meta[relay.Constant][3], meta[relay.Constant][4], meta[relay.Constant][5], axis=3, epsilon=0.001f);\n",
            "  %3 = %2.0;\n",
            "  %4 = nn.relu(%3);\n",
            "  %5 = nn.max_pool2d(%4, pool_size=[2, 2], strides=[2, 2], padding=[0, 0, 0, 0], layout=\"NHWC\");\n",
            "  %6 = nn.conv2d(%5, meta[relay.Constant][6], padding=[0i64, 0i64, 1i64, 1i64], channels=32, kernel_size=[2, 2], data_layout=\"NHWC\", kernel_layout=\"HWIO\");\n",
            "  %7 = nn.bias_add(%6, meta[relay.Constant][7], axis=-1);\n",
            "  %8 = nn.batch_norm(%7, meta[relay.Constant][8], meta[relay.Constant][9], meta[relay.Constant][10], meta[relay.Constant][11], axis=3, epsilon=0.001f);\n",
            "  %9 = %8.0;\n",
            "  %10 = nn.relu(%9);\n",
            "  %11 = nn.max_pool2d(%10, pool_size=[2, 2], strides=[2, 2], padding=[0, 0, 0, 0], layout=\"NHWC\");\n",
            "  %12 = nn.batch_flatten(%11);\n",
            "  %13 = nn.batch_norm(%12, meta[relay.Constant][12], meta[relay.Constant][13], meta[relay.Constant][14], meta[relay.Constant][15], epsilon=0.001f);\n",
            "  %14 = %13.0;\n",
            "  %15 = nn.relu(%14);\n",
            "  %16 = nn.dense(%15, meta[relay.Constant][16], units=256);\n",
            "  %17 = nn.bias_add(%16, meta[relay.Constant][17]);\n",
            "  %18 = nn.dense(%17, meta[relay.Constant][18], units=64);\n",
            "  %19 = nn.bias_add(%18, meta[relay.Constant][19]);\n",
            "  %20 = nn.dense(%19, meta[relay.Constant][20], units=100);\n",
            "  %21 = nn.bias_add(%20, meta[relay.Constant][21]);\n",
            "  nn.softmax(%21)\n",
            "}\n",
            "\n",
            "\n",
            "Extract tasks...\n",
            "2023-02-15 17:44:53 [INFO] Logging directory: /content/tvm/my_model_meta-scheduler_evolutionary/logs\n",
            "Task: 0, desc: fused_nn_conv2d_add_multiply_add_nn_relu\n",
            "Task: 1, desc: fused_nn_max_pool2d\n",
            "Task: 2, desc: fused_nn_conv2d_add_multiply_add_nn_relu_1\n",
            "Task: 3, desc: fused_nn_max_pool2d_1\n",
            "Task: 4, desc: fused_nn_batch_flatten_add_nn_relu\n",
            "Task: 5, desc: fused_nn_dense_add\n",
            "Task: 6, desc: fused_nn_dense_add_1\n",
            "Task: 7, desc: fused_nn_dense_add_2\n",
            "Task: 8, desc: fused_nn_softmax\n"
          ]
        }
      ],
      "source": [
        "tasks, task_weights = extract_tasks(mod, target, params, strategy_name)"
      ]
    },
    {
      "cell_type": "markdown",
      "metadata": {
        "id": "SG8N6DlXBl2P"
      },
      "source": [
        "Meta-Scheduler извлёк на одну задачу больше, чем Auto-Scheduer. К задачам добавился ещё слой `batch_flatten`."
      ]
    },
    {
      "cell_type": "markdown",
      "metadata": {
        "id": "eNr7zDC-Bl2Q"
      },
      "source": [
        "- Определим функцию, которая будет запускать настройку модели:"
      ]
    },
    {
      "cell_type": "code",
      "execution_count": null,
      "metadata": {
        "id": "EMGVnrJ8Bl2Q"
      },
      "outputs": [],
      "source": [
        "import os\n",
        "\n",
        "def run_tuning(tasks, task_weights, work_dir, n_trials):\n",
        "    if not os.path.exists(work_dir):\n",
        "        os.mkdir(work_dir)\n",
        "    print(\"Begin tuning...\")    \n",
        "    evaluator_config = ms.runner.config.EvaluatorConfig(number=1, repeat=10, enable_cpu_cache_flush=True);\n",
        "    database = ms.tune.tune_tasks(\n",
        "        tasks=tasks,\n",
        "        task_weights=task_weights,\n",
        "        work_dir=work_dir,\n",
        "        max_trials_global=n_trials,\n",
        "        num_trials_per_iter=64,\n",
        "        max_trials_per_task=256,\n",
        "        builder=ms.builder.LocalBuilder(),\n",
        "        runner=ms.runner.LocalRunner(evaluator_config=evaluator_config),\n",
        "    )"
      ]
    },
    {
      "cell_type": "markdown",
      "metadata": {
        "id": "zny_81zNBl2Q"
      },
      "source": [
        "- Запускаем тюнинг:"
      ]
    },
    {
      "cell_type": "code",
      "execution_count": null,
      "metadata": {
        "colab": {
          "base_uri": "https://localhost:8080/"
        },
        "id": "u6YIApgmBl2R",
        "outputId": "8cc28745-b7df-439a-b2a7-ce3a70f634a5"
      },
      "outputs": [
        {
          "output_type": "stream",
          "name": "stdout",
          "text": [
            "\u001b[1;30;43mВыходные данные были обрезаны до нескольких последних строк (100).\u001b[0m\n",
            "2023-02-15 18:21:23 [DEBUG] XGB stopped. Best iteration: [39] tr-p-rmse:0.073161\ttr-a-peak@32:1\ttr-rmse:0.410449\ttr-rmse:0.410449 \n",
            "2023-02-15 18:21:23 [DEBUG] XGB stopped. Best iteration: [39] tr-p-rmse:0.073161\ttr-a-peak@32:1\ttr-rmse:0.410449\ttr-rmse:0.410449 \n",
            "2023-02-15 18:21:23 [DEBUG] XGB stopped. Best iteration: [39] tr-p-rmse:0.073161\ttr-a-peak@32:1\ttr-rmse:0.410449\ttr-rmse:0.410449 \n",
            "2023-02-15 18:21:23 [DEBUG] XGB stopped. Best iteration: [39] tr-p-rmse:0.073161\ttr-a-peak@32:1\ttr-rmse:0.410449\ttr-rmse:0.410449 \n",
            "2023-02-15 18:21:23 [DEBUG] XGB stopped. Best iteration: [39] tr-p-rmse:0.073161\ttr-a-peak@32:1\ttr-rmse:0.410449\ttr-rmse:0.410449 \n",
            "2023-02-15 18:21:23 [DEBUG] XGB stopped. Best iteration: [39] tr-p-rmse:0.073161\ttr-a-peak@32:1\ttr-rmse:0.410449\ttr-rmse:0.410449 \n",
            "2023-02-15 18:21:23 [DEBUG] XGB stopped. Best iteration: [39] tr-p-rmse:0.073161\ttr-a-peak@32:1\ttr-rmse:0.410449\ttr-rmse:0.410449 \n",
            "2023-02-15 18:21:23 [DEBUG] XGB stopped. Best iteration: [39] tr-p-rmse:0.073161\ttr-a-peak@32:1\ttr-rmse:0.410449\ttr-rmse:0.410449 \n",
            "2023-02-15 18:21:23 [DEBUG] XGB iter 7800: tr-p-rmse: 0.073161\ttr-a-peak@32: 1.000000\ttr-rmse: 0.410452\ttr-rmse: 0.410452\n",
            "2023-02-15 18:21:23 [DEBUG] XGB stopped. Best iteration: [39] tr-p-rmse:0.073161\ttr-a-peak@32:1\ttr-rmse:0.410449\ttr-rmse:0.410449 \n",
            "2023-02-15 18:21:23 [DEBUG] XGB stopped. Best iteration: [39] tr-p-rmse:0.073161\ttr-a-peak@32:1\ttr-rmse:0.410449\ttr-rmse:0.410449 \n",
            "2023-02-15 18:21:23 [DEBUG] XGB stopped. Best iteration: [39] tr-p-rmse:0.073161\ttr-a-peak@32:1\ttr-rmse:0.410449\ttr-rmse:0.410449 \n",
            "2023-02-15 18:21:23 [DEBUG] XGB stopped. Best iteration: [39] tr-p-rmse:0.073161\ttr-a-peak@32:1\ttr-rmse:0.410449\ttr-rmse:0.410449 \n",
            "2023-02-15 18:21:23 [DEBUG] XGB stopped. Best iteration: [39] tr-p-rmse:0.073161\ttr-a-peak@32:1\ttr-rmse:0.410449\ttr-rmse:0.410449 \n",
            "2023-02-15 18:21:23 [DEBUG] XGB stopped. Best iteration: [39] tr-p-rmse:0.073161\ttr-a-peak@32:1\ttr-rmse:0.410449\ttr-rmse:0.410449 \n",
            "2023-02-15 18:21:23 [DEBUG] XGB stopped. Best iteration: [39] tr-p-rmse:0.073161\ttr-a-peak@32:1\ttr-rmse:0.410449\ttr-rmse:0.410449 \n",
            "2023-02-15 18:21:24 [DEBUG] XGB stopped. Best iteration: [39] tr-p-rmse:0.073161\ttr-a-peak@32:1\ttr-rmse:0.410449\ttr-rmse:0.410449 \n",
            "2023-02-15 18:21:24 [DEBUG] XGB stopped. Best iteration: [39] tr-p-rmse:0.073161\ttr-a-peak@32:1\ttr-rmse:0.410449\ttr-rmse:0.410449 \n",
            "2023-02-15 18:21:24 [DEBUG] XGB stopped. Best iteration: [39] tr-p-rmse:0.073161\ttr-a-peak@32:1\ttr-rmse:0.410449\ttr-rmse:0.410449 \n",
            "2023-02-15 18:21:24 [DEBUG] XGB stopped. Best iteration: [39] tr-p-rmse:0.073161\ttr-a-peak@32:1\ttr-rmse:0.410449\ttr-rmse:0.410449 \n",
            "2023-02-15 18:21:24 [DEBUG] XGB stopped. Best iteration: [39] tr-p-rmse:0.073161\ttr-a-peak@32:1\ttr-rmse:0.410449\ttr-rmse:0.410449 \n",
            "2023-02-15 18:21:24 [DEBUG] XGB stopped. Best iteration: [39] tr-p-rmse:0.073161\ttr-a-peak@32:1\ttr-rmse:0.410449\ttr-rmse:0.410449 \n",
            "2023-02-15 18:21:24 [DEBUG] XGB stopped. Best iteration: [39] tr-p-rmse:0.073161\ttr-a-peak@32:1\ttr-rmse:0.410449\ttr-rmse:0.410449 \n",
            "2023-02-15 18:21:24 [DEBUG] XGB stopped. Best iteration: [39] tr-p-rmse:0.073161\ttr-a-peak@32:1\ttr-rmse:0.410449\ttr-rmse:0.410449 \n",
            "2023-02-15 18:21:24 [DEBUG] XGB stopped. Best iteration: [39] tr-p-rmse:0.073161\ttr-a-peak@32:1\ttr-rmse:0.410449\ttr-rmse:0.410449 \n",
            "2023-02-15 18:21:24 [DEBUG] XGB stopped. Best iteration: [39] tr-p-rmse:0.073161\ttr-a-peak@32:1\ttr-rmse:0.410449\ttr-rmse:0.410449 \n",
            "2023-02-15 18:21:24 [DEBUG] XGB stopped. Best iteration: [39] tr-p-rmse:0.073161\ttr-a-peak@32:1\ttr-rmse:0.410449\ttr-rmse:0.410449 \n",
            "2023-02-15 18:21:24 [DEBUG] XGB stopped. Best iteration: [39] tr-p-rmse:0.073161\ttr-a-peak@32:1\ttr-rmse:0.410449\ttr-rmse:0.410449 \n",
            "2023-02-15 18:21:24 [DEBUG] XGB stopped. Best iteration: [39] tr-p-rmse:0.073161\ttr-a-peak@32:1\ttr-rmse:0.410449\ttr-rmse:0.410449 \n",
            "2023-02-15 18:21:24 [DEBUG] XGB stopped. Best iteration: [39] tr-p-rmse:0.073161\ttr-a-peak@32:1\ttr-rmse:0.410449\ttr-rmse:0.410449 \n",
            "2023-02-15 18:21:24 [DEBUG] XGB stopped. Best iteration: [39] tr-p-rmse:0.073161\ttr-a-peak@32:1\ttr-rmse:0.410449\ttr-rmse:0.410449 \n",
            "2023-02-15 18:21:24 [DEBUG] XGB stopped. Best iteration: [39] tr-p-rmse:0.073161\ttr-a-peak@32:1\ttr-rmse:0.410449\ttr-rmse:0.410449 \n",
            "2023-02-15 18:21:24 [DEBUG] XGB stopped. Best iteration: [39] tr-p-rmse:0.073161\ttr-a-peak@32:1\ttr-rmse:0.410449\ttr-rmse:0.410449 \n",
            "2023-02-15 18:21:24 [DEBUG] XGB stopped. Best iteration: [39] tr-p-rmse:0.073161\ttr-a-peak@32:1\ttr-rmse:0.410449\ttr-rmse:0.410449 \n",
            "2023-02-15 18:21:24 [DEBUG] XGB iter 7825: tr-p-rmse: 0.073161\ttr-a-peak@32: 1.000000\ttr-rmse: 0.410452\ttr-rmse: 0.410452\n",
            "2023-02-15 18:21:24 [DEBUG] XGB stopped. Best iteration: [39] tr-p-rmse:0.073161\ttr-a-peak@32:1\ttr-rmse:0.410449\ttr-rmse:0.410449 \n",
            "2023-02-15 18:21:24 [DEBUG] XGB stopped. Best iteration: [39] tr-p-rmse:0.073161\ttr-a-peak@32:1\ttr-rmse:0.410449\ttr-rmse:0.410449 \n",
            "2023-02-15 18:21:24 [DEBUG] XGB stopped. Best iteration: [39] tr-p-rmse:0.073161\ttr-a-peak@32:1\ttr-rmse:0.410449\ttr-rmse:0.410449 \n",
            "2023-02-15 18:21:24 [DEBUG] XGB stopped. Best iteration: [39] tr-p-rmse:0.073161\ttr-a-peak@32:1\ttr-rmse:0.410449\ttr-rmse:0.410449 \n",
            "2023-02-15 18:21:24 [DEBUG] XGB stopped. Best iteration: [39] tr-p-rmse:0.073161\ttr-a-peak@32:1\ttr-rmse:0.410449\ttr-rmse:0.410449 \n",
            "2023-02-15 18:21:24 [DEBUG] XGB stopped. Best iteration: [39] tr-p-rmse:0.073161\ttr-a-peak@32:1\ttr-rmse:0.410449\ttr-rmse:0.410449 \n",
            "2023-02-15 18:21:24 [DEBUG] XGB stopped. Best iteration: [39] tr-p-rmse:0.073161\ttr-a-peak@32:1\ttr-rmse:0.410449\ttr-rmse:0.410449 \n",
            "2023-02-15 18:21:24 [DEBUG] XGB stopped. Best iteration: [39] tr-p-rmse:0.073161\ttr-a-peak@32:1\ttr-rmse:0.410449\ttr-rmse:0.410449 \n",
            "2023-02-15 18:21:24 [DEBUG] XGB stopped. Best iteration: [39] tr-p-rmse:0.073161\ttr-a-peak@32:1\ttr-rmse:0.410449\ttr-rmse:0.410449 \n",
            "2023-02-15 18:21:24 [DEBUG] XGB stopped. Best iteration: [39] tr-p-rmse:0.073161\ttr-a-peak@32:1\ttr-rmse:0.410449\ttr-rmse:0.410449 \n",
            "2023-02-15 18:21:24 [DEBUG] XGB stopped. Best iteration: [39] tr-p-rmse:0.073161\ttr-a-peak@32:1\ttr-rmse:0.410449\ttr-rmse:0.410449 \n",
            "2023-02-15 18:21:24 [DEBUG] XGB stopped. Best iteration: [39] tr-p-rmse:0.073161\ttr-a-peak@32:1\ttr-rmse:0.410449\ttr-rmse:0.410449 \n",
            "2023-02-15 18:21:24 [DEBUG] XGB stopped. Best iteration: [39] tr-p-rmse:0.073161\ttr-a-peak@32:1\ttr-rmse:0.410449\ttr-rmse:0.410449 \n",
            "2023-02-15 18:21:24 [DEBUG] XGB stopped. Best iteration: [39] tr-p-rmse:0.073161\ttr-a-peak@32:1\ttr-rmse:0.410449\ttr-rmse:0.410449 \n",
            "2023-02-15 18:21:24 [DEBUG] XGB stopped. Best iteration: [39] tr-p-rmse:0.073161\ttr-a-peak@32:1\ttr-rmse:0.410449\ttr-rmse:0.410449 \n",
            "2023-02-15 18:21:24 [DEBUG] XGB stopped. Best iteration: [39] tr-p-rmse:0.073161\ttr-a-peak@32:1\ttr-rmse:0.410449\ttr-rmse:0.410449 \n",
            "2023-02-15 18:21:24 [DEBUG] XGB stopped. Best iteration: [39] tr-p-rmse:0.073161\ttr-a-peak@32:1\ttr-rmse:0.410449\ttr-rmse:0.410449 \n",
            "2023-02-15 18:21:24 [DEBUG] XGB stopped. Best iteration: [39] tr-p-rmse:0.073161\ttr-a-peak@32:1\ttr-rmse:0.410449\ttr-rmse:0.410449 \n",
            "2023-02-15 18:21:24 [DEBUG] XGB stopped. Best iteration: [39] tr-p-rmse:0.073161\ttr-a-peak@32:1\ttr-rmse:0.410449\ttr-rmse:0.410449 \n",
            "2023-02-15 18:21:24 [DEBUG] XGB stopped. Best iteration: [39] tr-p-rmse:0.073161\ttr-a-peak@32:1\ttr-rmse:0.410449\ttr-rmse:0.410449 \n",
            "2023-02-15 18:21:24 [DEBUG] XGB stopped. Best iteration: [39] tr-p-rmse:0.073161\ttr-a-peak@32:1\ttr-rmse:0.410449\ttr-rmse:0.410449 \n",
            "2023-02-15 18:21:24 [DEBUG] XGB stopped. Best iteration: [39] tr-p-rmse:0.073161\ttr-a-peak@32:1\ttr-rmse:0.410449\ttr-rmse:0.410449 \n",
            "2023-02-15 18:21:25 [DEBUG] XGB stopped. Best iteration: [39] tr-p-rmse:0.073161\ttr-a-peak@32:1\ttr-rmse:0.410449\ttr-rmse:0.410449 \n",
            "2023-02-15 18:21:25 [DEBUG] XGB stopped. Best iteration: [39] tr-p-rmse:0.073161\ttr-a-peak@32:1\ttr-rmse:0.410449\ttr-rmse:0.410449 \n",
            "2023-02-15 18:21:25 [DEBUG] XGB stopped. Best iteration: [39] tr-p-rmse:0.073161\ttr-a-peak@32:1\ttr-rmse:0.410449\ttr-rmse:0.410449 \n",
            "2023-02-15 18:21:25 [DEBUG] XGB iter 7850: tr-p-rmse: 0.073161\ttr-a-peak@32: 1.000000\ttr-rmse: 0.410452\ttr-rmse: 0.410452\n",
            "2023-02-15 18:21:25 [DEBUG] XGB stopped. Best iteration: [39] tr-p-rmse:0.073161\ttr-a-peak@32:1\ttr-rmse:0.410449\ttr-rmse:0.410449 \n",
            "2023-02-15 18:21:25 [DEBUG] XGB stopped. Best iteration: [39] tr-p-rmse:0.073161\ttr-a-peak@32:1\ttr-rmse:0.410449\ttr-rmse:0.410449 \n",
            "2023-02-15 18:21:25 [DEBUG] XGB stopped. Best iteration: [39] tr-p-rmse:0.073161\ttr-a-peak@32:1\ttr-rmse:0.410449\ttr-rmse:0.410449 \n",
            "2023-02-15 18:21:25 [DEBUG] XGB stopped. Best iteration: [39] tr-p-rmse:0.073161\ttr-a-peak@32:1\ttr-rmse:0.410449\ttr-rmse:0.410449 \n",
            "2023-02-15 18:21:25 [DEBUG] XGB stopped. Best iteration: [39] tr-p-rmse:0.073161\ttr-a-peak@32:1\ttr-rmse:0.410449\ttr-rmse:0.410449 \n",
            "2023-02-15 18:21:25 [DEBUG] XGB stopped. Best iteration: [39] tr-p-rmse:0.073161\ttr-a-peak@32:1\ttr-rmse:0.410449\ttr-rmse:0.410449 \n",
            "2023-02-15 18:21:25 [DEBUG] XGB stopped. Best iteration: [39] tr-p-rmse:0.073161\ttr-a-peak@32:1\ttr-rmse:0.410449\ttr-rmse:0.410449 \n",
            "2023-02-15 18:21:25 [DEBUG] XGB stopped. Best iteration: [39] tr-p-rmse:0.073161\ttr-a-peak@32:1\ttr-rmse:0.410449\ttr-rmse:0.410449 \n",
            "2023-02-15 18:21:25 [DEBUG] XGB stopped. Best iteration: [39] tr-p-rmse:0.073161\ttr-a-peak@32:1\ttr-rmse:0.410449\ttr-rmse:0.410449 \n",
            "2023-02-15 18:21:25 [DEBUG] XGB stopped. Best iteration: [39] tr-p-rmse:0.073161\ttr-a-peak@32:1\ttr-rmse:0.410449\ttr-rmse:0.410449 \n",
            "2023-02-15 18:21:25 [DEBUG] XGB stopped. Best iteration: [39] tr-p-rmse:0.073161\ttr-a-peak@32:1\ttr-rmse:0.410449\ttr-rmse:0.410449 \n",
            "2023-02-15 18:21:25 [DEBUG] XGB stopped. Best iteration: [39] tr-p-rmse:0.073161\ttr-a-peak@32:1\ttr-rmse:0.410449\ttr-rmse:0.410449 \n",
            "2023-02-15 18:21:25 [DEBUG] XGB stopped. Best iteration: [39] tr-p-rmse:0.073161\ttr-a-peak@32:1\ttr-rmse:0.410449\ttr-rmse:0.410449 \n",
            "2023-02-15 18:21:25 [DEBUG] XGB stopped. Best iteration: [39] tr-p-rmse:0.073161\ttr-a-peak@32:1\ttr-rmse:0.410449\ttr-rmse:0.410449 \n",
            "2023-02-15 18:21:25 [DEBUG] XGB stopped. Best iteration: [39] tr-p-rmse:0.073161\ttr-a-peak@32:1\ttr-rmse:0.410449\ttr-rmse:0.410449 \n",
            "2023-02-15 18:21:25 [DEBUG] XGB stopped. Best iteration: [39] tr-p-rmse:0.073161\ttr-a-peak@32:1\ttr-rmse:0.410449\ttr-rmse:0.410449 \n",
            "2023-02-15 18:21:25 [DEBUG] XGB stopped. Best iteration: [39] tr-p-rmse:0.073161\ttr-a-peak@32:1\ttr-rmse:0.410449\ttr-rmse:0.410449 \n",
            "2023-02-15 18:21:25 [DEBUG] XGB stopped. Best iteration: [39] tr-p-rmse:0.073161\ttr-a-peak@32:1\ttr-rmse:0.410449\ttr-rmse:0.410449 \n",
            "2023-02-15 18:21:25 [DEBUG] XGB stopped. Best iteration: [39] tr-p-rmse:0.073161\ttr-a-peak@32:1\ttr-rmse:0.410449\ttr-rmse:0.410449 \n",
            "2023-02-15 18:21:25 [DEBUG] XGB stopped. Best iteration: [39] tr-p-rmse:0.073161\ttr-a-peak@32:1\ttr-rmse:0.410449\ttr-rmse:0.410449 \n",
            "2023-02-15 18:21:25 [DEBUG] XGB stopped. Best iteration: [39] tr-p-rmse:0.073161\ttr-a-peak@32:1\ttr-rmse:0.410449\ttr-rmse:0.410449 \n",
            "2023-02-15 18:21:25 [DEBUG] XGB stopped. Best iteration: [39] tr-p-rmse:0.073161\ttr-a-peak@32:1\ttr-rmse:0.410449\ttr-rmse:0.410449 \n",
            "2023-02-15 18:21:25 [DEBUG] XGB stopped. Best iteration: [39] tr-p-rmse:0.073161\ttr-a-peak@32:1\ttr-rmse:0.410449\ttr-rmse:0.410449 \n",
            "2023-02-15 18:21:25 [DEBUG] XGB stopped. Best iteration: [39] tr-p-rmse:0.073161\ttr-a-peak@32:1\ttr-rmse:0.410449\ttr-rmse:0.410449 \n",
            "2023-02-15 18:21:25 [DEBUG] XGB stopped. Best iteration: [39] tr-p-rmse:0.073161\ttr-a-peak@32:1\ttr-rmse:0.410449\ttr-rmse:0.410449 \n",
            "2023-02-15 18:21:25 [DEBUG] XGB iter 7875: tr-p-rmse: 0.073161\ttr-a-peak@32: 1.000000\ttr-rmse: 0.410452\ttr-rmse: 0.410452\n",
            "2023-02-15 18:21:25 [DEBUG] XGB stopped. Best iteration: [39] tr-p-rmse:0.073161\ttr-a-peak@32:1\ttr-rmse:0.410449\ttr-rmse:0.410449 \n",
            "2023-02-15 18:21:25 [DEBUG] XGB stopped. Best iteration: [39] tr-p-rmse:0.073161\ttr-a-peak@32:1\ttr-rmse:0.410449\ttr-rmse:0.410449 \n",
            "2023-02-15 18:21:25 [DEBUG] XGB stopped. Best iteration: [39] tr-p-rmse:0.073161\ttr-a-peak@32:1\ttr-rmse:0.410449\ttr-rmse:0.410449 \n",
            "2023-02-15 18:21:25 [DEBUG] XGB stopped. Best iteration: [39] tr-p-rmse:0.073161\ttr-a-peak@32:1\ttr-rmse:0.410449\ttr-rmse:0.410449 \n",
            "2023-02-15 18:21:25 [DEBUG] XGB stopped. Best iteration: [39] tr-p-rmse:0.073161\ttr-a-peak@32:1\ttr-rmse:0.410449\ttr-rmse:0.410449 \n",
            "2023-02-15 18:21:25 [DEBUG] XGB stopped. Best iteration: [39] tr-p-rmse:0.073161\ttr-a-peak@32:1\ttr-rmse:0.410449\ttr-rmse:0.410449 \n",
            "2023-02-15 18:21:25 [DEBUG] XGB stopped. Best iteration: [39] tr-p-rmse:0.073161\ttr-a-peak@32:1\ttr-rmse:0.410449\ttr-rmse:0.410449 \n",
            "2023-02-15 18:21:26 [DEBUG] XGB stopped. Best iteration: [39] tr-p-rmse:0.073161\ttr-a-peak@32:1\ttr-rmse:0.410449\ttr-rmse:0.410449 \n",
            "2023-02-15 18:21:26 [DEBUG] XGB stopped. Best iteration: [39] tr-p-rmse:0.073161\ttr-a-peak@32:1\ttr-rmse:0.410449\ttr-rmse:0.410449 \n",
            "2023-02-15 18:21:26 [DEBUG] XGB stopped. Best iteration: [39] tr-p-rmse:0.073161\ttr-a-peak@32:1\ttr-rmse:0.410449\ttr-rmse:0.410449 \n",
            "2023-02-15 18:21:26 [DEBUG] XGB stopped. Best iteration: [39] tr-p-rmse:0.073161\ttr-a-peak@32:1\ttr-rmse:0.410449\ttr-rmse:0.410449 \n",
            "2023-02-15 18:21:26 [DEBUG] XGB stopped. Best iteration: [39] tr-p-rmse:0.073161\ttr-a-peak@32:1\ttr-rmse:0.410449\ttr-rmse:0.410449 \n",
            "2023-02-15 18:21:26 [DEBUG] XGB stopped. Best iteration: [39] tr-p-rmse:0.073161\ttr-a-peak@32:1\ttr-rmse:0.410449\ttr-rmse:0.410449 \n"
          ]
        }
      ],
      "source": [
        "run_tuning(tasks, task_weights, work_dir, 512)"
      ]
    },
    {
      "cell_type": "markdown",
      "metadata": {
        "id": "RqaL0if4Bl2R"
      },
      "source": [
        "- Модифицируем функцию для оценки эффективности настройки модели:"
      ]
    },
    {
      "cell_type": "code",
      "execution_count": 77,
      "metadata": {
        "id": "7fMcazhPBl2R"
      },
      "outputs": [],
      "source": [
        "def evaluate(module, data_shape, work_dir, target=\"llvm\"):\n",
        "    # compile kernels in default mode\n",
        "    print(\"Evaluation of the network compiled in 'default' mode without auto tune:\")\n",
        "    with tvm.transform.PassContext(opt_level=3):\n",
        "        print(\"Compile...\")\n",
        "        lib = relay.build(module, target=target, params=params)\n",
        "        evaluate_performance(lib, data_shape)\n",
        "\n",
        "    # compile kernels in kernel tuned only mode\n",
        "    print(\"\\nEvaluation of the network been tuned on kernel level:\")\n",
        "    print(\"Compile...\")\n",
        "    database = ms.database.JSONDatabase(f\"{work_dir}/database_workload.json\",\n",
        "                                        f\"{work_dir}/database_tuning_record.json\",\n",
        "                                        allow_missing=False)\n",
        "    with tvm.transform.PassContext(opt_level=3):\n",
        "        lib = ms.relay_integration.compile_relay(database, module, target, params)\n",
        "        evaluate_performance(lib, data_shape)"
      ]
    },
    {
      "cell_type": "markdown",
      "metadata": {
        "id": "1TWf58WfBl2S"
      },
      "source": [
        "- Запустим функцию и оценим полученную производительность:"
      ]
    },
    {
      "cell_type": "code",
      "execution_count": 78,
      "metadata": {
        "id": "ejw_EwAVBl2S",
        "outputId": "2077761c-8bac-43d3-892a-e115d906dc08",
        "colab": {
          "base_uri": "https://localhost:8080/"
        }
      },
      "outputs": [
        {
          "output_type": "stream",
          "name": "stdout",
          "text": [
            "Evaluation of the network compiled in 'default' mode without auto tune:\n",
            "Compile...\n"
          ]
        },
        {
          "output_type": "stream",
          "name": "stderr",
          "text": [
            "WARNING:strategy:conv2d NHWC layout is not optimized for x86 with autotvm.\n",
            "WARNING:strategy:conv2d NHWC layout is not optimized for x86 with autotvm.\n",
            "WARNING:strategy:conv2d NHWC layout is not optimized for x86 with autotvm.\n",
            "WARNING:strategy:conv2d NHWC layout is not optimized for x86 with autotvm.\n"
          ]
        },
        {
          "output_type": "stream",
          "name": "stdout",
          "text": [
            "Evaluate inference time cost...\n",
            "Execution time summary:\n",
            " mean (ms)   median (ms)    max (ms)     min (ms)     std (ms)  \n",
            "   0.7478       0.7559       0.7587       0.7288       0.0135   \n",
            "               \n",
            "\n",
            "Evaluation of the network been tuned on kernel level:\n",
            "Compile...\n",
            "Evaluate inference time cost...\n",
            "Execution time summary:\n",
            " mean (ms)   median (ms)    max (ms)     min (ms)     std (ms)  \n",
            "   0.0648       0.0648       0.0649       0.0646       0.0001   \n",
            "               \n"
          ]
        }
      ],
      "source": [
        "evaluate(mod, input_shape, work_dir, target)"
      ]
    },
    {
      "cell_type": "markdown",
      "metadata": {
        "id": "yYJBxo1cBl2S"
      },
      "source": [
        "Результаты, полученные при настройке с Meta-Scheduler, оказались лучше, чем результаты с Auto-Scheduler."
      ]
    }
  ],
  "metadata": {
    "accelerator": "GPU",
    "celltoolbar": "Slideshow",
    "colab": {
      "provenance": []
    },
    "gpuClass": "standard",
    "kernelspec": {
      "display_name": "Python 3",
      "name": "python3"
    },
    "language_info": {
      "name": "python"
    }
  },
  "nbformat": 4,
  "nbformat_minor": 0
}
